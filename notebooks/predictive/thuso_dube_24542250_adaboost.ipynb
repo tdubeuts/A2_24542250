{
 "cells": [
  {
   "cell_type": "markdown",
   "id": "44890f0d-c49a-44bb-be69-5eb2b1d2cce9",
   "metadata": {},
   "source": [
    "## AdaBoost Model training on Sales Data\n",
    "\n",
    "\n",
    "The Steps are:\n",
    "\n",
    "1. Load Train,Val & Test Datasets\n",
    "2. Establish a baseline Model\n",
    "3.   Train AdaBoost model\n",
    "4.   Hyperparameter Tuning"
   ]
  },
  {
   "cell_type": "markdown",
   "id": "567d6819-a4ea-4f73-8898-55c35f4337b0",
   "metadata": {},
   "source": [
    "**[1]**  Loading in Packages"
   ]
  },
  {
   "cell_type": "code",
   "execution_count": 6,
   "id": "34dded7e-0823-4445-8658-097f08edf546",
   "metadata": {},
   "outputs": [
    {
     "name": "stdout",
     "output_type": "stream",
     "text": [
      "Looking in indexes: https://test.pypi.org/simple/\n",
      "Collecting code_pkg==2024.0.1.2\n",
      "  Downloading https://test-files.pythonhosted.org/packages/a0/e0/6c2f903c9628dc51225a853bf6e97a336ec4f1c5b4832d856d9bc160942e/code_pkg-2024.0.1.2-py3-none-any.whl.metadata (1.1 kB)\n",
      "Downloading https://test-files.pythonhosted.org/packages/a0/e0/6c2f903c9628dc51225a853bf6e97a336ec4f1c5b4832d856d9bc160942e/code_pkg-2024.0.1.2-py3-none-any.whl (8.5 kB)\n",
      "Installing collected packages: code_pkg\n",
      "  Attempting uninstall: code_pkg\n",
      "    Found existing installation: code_pkg 2024.0.1.0\n",
      "    Uninstalling code_pkg-2024.0.1.0:\n",
      "      Successfully uninstalled code_pkg-2024.0.1.0\n",
      "Successfully installed code_pkg-2024.0.1.2\n"
     ]
    }
   ],
   "source": [
    "import pandas as pd\n",
    "import numpy as np\n",
    "from joblib import dump\n",
    "!pip install -i https://test.pypi.org/simple/ code_pkg==2024.0.1.2"
   ]
  },
  {
   "cell_type": "markdown",
   "id": "1ec818c2-dcca-4f75-a5d1-a8bea95fc591",
   "metadata": {},
   "source": [
    "**[2]**  Load in saved datasets"
   ]
  },
  {
   "cell_type": "code",
   "execution_count": 19,
   "id": "e48dc2b5-ca51-4b9c-9a4c-6c9264c5429c",
   "metadata": {},
   "outputs": [],
   "source": [
    "from code_pkg.data.sets import load_sets\n",
    "\n",
    "X_train, y_train, X_val, y_val, X_test, y_test = load_sets(path='../data/processed/')"
   ]
  },
  {
   "cell_type": "code",
   "execution_count": 33,
   "id": "ef49fbda-d1cc-4819-a8fa-7b20b1c694d8",
   "metadata": {},
   "outputs": [],
   "source": [
    "X_train =pd.read_csv('/Users/thusondube/Documents/UTS2024/Assignments/A2_24542250/data/processed/X_train.csv')\n",
    "X_val =pd.read_csv('/Users/thusondube/Documents/UTS2024/Assignments/A2_24542250/data/processed/X_val.csv')\n",
    "X_test =pd.read_csv('/Users/thusondube/Documents/UTS2024/Assignments/A2_24542250/data/processed/X_test.csv')\n",
    "y_train =pd.read_csv('/Users/thusondube/Documents/UTS2024/Assignments/A2_24542250/data/processed/y_train.csv')\n",
    "y_val = pd.read_csv('/Users/thusondube/Documents/UTS2024/Assignments/A2_24542250/data/processed/y_val.csv')\n",
    "y_test = pd.read_csv('/Users/thusondube/Documents/UTS2024/Assignments/A2_24542250/data/processed/y_test.csv')"
   ]
  },
  {
   "cell_type": "code",
   "execution_count": 34,
   "id": "2564acd1-133d-4bc7-9ea4-c5512979b8f3",
   "metadata": {},
   "outputs": [
    {
     "data": {
      "text/html": [
       "<div>\n",
       "<style scoped>\n",
       "    .dataframe tbody tr th:only-of-type {\n",
       "        vertical-align: middle;\n",
       "    }\n",
       "\n",
       "    .dataframe tbody tr th {\n",
       "        vertical-align: top;\n",
       "    }\n",
       "\n",
       "    .dataframe thead th {\n",
       "        text-align: right;\n",
       "    }\n",
       "</style>\n",
       "<table border=\"1\" class=\"dataframe\">\n",
       "  <thead>\n",
       "    <tr style=\"text-align: right;\">\n",
       "      <th></th>\n",
       "      <th>sales</th>\n",
       "    </tr>\n",
       "  </thead>\n",
       "  <tbody>\n",
       "    <tr>\n",
       "      <th>0</th>\n",
       "      <td>7</td>\n",
       "    </tr>\n",
       "    <tr>\n",
       "      <th>1</th>\n",
       "      <td>0</td>\n",
       "    </tr>\n",
       "    <tr>\n",
       "      <th>2</th>\n",
       "      <td>0</td>\n",
       "    </tr>\n",
       "    <tr>\n",
       "      <th>3</th>\n",
       "      <td>0</td>\n",
       "    </tr>\n",
       "    <tr>\n",
       "      <th>4</th>\n",
       "      <td>0</td>\n",
       "    </tr>\n",
       "  </tbody>\n",
       "</table>\n",
       "</div>"
      ],
      "text/plain": [
       "   sales\n",
       "0      7\n",
       "1      0\n",
       "2      0\n",
       "3      0\n",
       "4      0"
      ]
     },
     "execution_count": 34,
     "metadata": {},
     "output_type": "execute_result"
    }
   ],
   "source": [
    "y_train.head()\n"
   ]
  },
  {
   "cell_type": "markdown",
   "id": "b3fa127f-285c-48e2-b718-0b642909c273",
   "metadata": {},
   "source": [
    "## 6. Get Baseline Model"
   ]
  },
  {
   "cell_type": "code",
   "execution_count": 39,
   "id": "d4de9a0a-7fc7-40a8-b9a1-0479e4dad343",
   "metadata": {},
   "outputs": [],
   "source": [
    "from code_pkg.models.null import NullRegressor\n",
    "from code_pkg.models.performance import print_regressor_scores\n",
    "\n",
    "\n",
    "# Base model from NullRegressor\n",
    "base_model = NullRegressor()\n",
    "\n",
    "\n",
    "y_base = base_model.fit_predict(y_train)\n",
    "\n"
   ]
  },
  {
   "cell_type": "code",
   "execution_count": 40,
   "id": "a21cfe02-c434-478a-85c0-46c6600b8e12",
   "metadata": {},
   "outputs": [
    {
     "name": "stdout",
     "output_type": "stream",
     "text": [
      "RMSE Training: 4.752820759157724\n",
      "MAE Training: 1.965954552738737\n"
     ]
    }
   ],
   "source": [
    "#  Baseline Training Model\n",
    "print_regressor_scores(y_preds=y_base, y_actuals=y_train, set_name='Training')"
   ]
  },
  {
   "cell_type": "code",
   "execution_count": 41,
   "id": "302c4b64-559d-4b2b-815f-dde3549e17cb",
   "metadata": {},
   "outputs": [
    {
     "name": "stdout",
     "output_type": "stream",
     "text": [
      "RMSE Validation: 3.459385014104738\n",
      "MAE Validation: 1.7074315596725356\n"
     ]
    }
   ],
   "source": [
    "#  Baseline Validation Model\n",
    "print_regressor_scores(y_preds=base_model.predict(y_val), y_actuals=y_val, set_name='Validation')"
   ]
  },
  {
   "cell_type": "code",
   "execution_count": 42,
   "id": "a22aecd9-b03a-43ad-90ec-5175a59b005c",
   "metadata": {},
   "outputs": [
    {
     "name": "stdout",
     "output_type": "stream",
     "text": [
      "RMSE Testing: 3.7272751116727454\n",
      "MAE Testing: 1.7616442528160523\n"
     ]
    }
   ],
   "source": [
    "#  Baseline Testing Model\n",
    "print_regressor_scores(y_preds=base_model.predict(y_test), y_actuals=y_test, set_name='Testing')"
   ]
  }
 ],
 "metadata": {
  "kernelspec": {
   "display_name": "Python 3 (ipykernel)",
   "language": "python",
   "name": "python3"
  },
  "language_info": {
   "codemirror_mode": {
    "name": "ipython",
    "version": 3
   },
   "file_extension": ".py",
   "mimetype": "text/x-python",
   "name": "python",
   "nbconvert_exporter": "python",
   "pygments_lexer": "ipython3",
   "version": "3.10.7"
  }
 },
 "nbformat": 4,
 "nbformat_minor": 5
}
