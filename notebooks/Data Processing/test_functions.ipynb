{
 "cells": [
  {
   "cell_type": "code",
   "execution_count": 1,
   "id": "5d3f5578-9948-4c0e-b27b-bb98153139ef",
   "metadata": {},
   "outputs": [],
   "source": [
    "def if_weekends(df,weekends = [7,0]):\n",
    "    if x in weekends:\n",
    "        return 1\n",
    "    else:\n",
    "        return 0"
   ]
  }
 ],
 "metadata": {
  "kernelspec": {
   "display_name": "Python 3 (ipykernel)",
   "language": "python",
   "name": "python3"
  },
  "language_info": {
   "codemirror_mode": {
    "name": "ipython",
    "version": 3
   },
   "file_extension": ".py",
   "mimetype": "text/x-python",
   "name": "python",
   "nbconvert_exporter": "python",
   "pygments_lexer": "ipython3",
   "version": "3.10.7"
  }
 },
 "nbformat": 4,
 "nbformat_minor": 5
}
