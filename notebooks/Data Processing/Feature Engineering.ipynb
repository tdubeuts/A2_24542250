{
 "cells": [
  {
   "cell_type": "code",
   "execution_count": 1,
   "id": "8c22094c-5f65-4c07-b817-c378086fe91f",
   "metadata": {},
   "outputs": [],
   "source": [
    "import pandas as pd\n",
    "from sklearn.preprocessing import LabelEncoder\n",
    "\n"
   ]
  },
  {
   "cell_type": "code",
   "execution_count": 2,
   "id": "f9196391-ffbf-443d-b6f5-cb6966fe73d3",
   "metadata": {},
   "outputs": [
    {
     "name": "stdout",
     "output_type": "stream",
     "text": [
      "Looking in indexes: https://test.pypi.org/simple/\n",
      "Requirement already satisfied: code_pkg==2024.0.1.0 in /Users/thusondube/Library/Caches/pypoetry/virtualenvs/adv-mla-lab-2-5yQ4FX6i-py3.10/lib/python3.10/site-packages (2024.0.1.0)\n"
     ]
    }
   ],
   "source": [
    "!pip install -i https://test.pypi.org/simple/ code_pkg==2024.0.1.0"
   ]
  },
  {
   "cell_type": "code",
   "execution_count": 3,
   "id": "04545a84-958c-460d-93a7-5e5d717df664",
   "metadata": {},
   "outputs": [],
   "source": [
    "df = pd.read_csv('/Users/thusondube/Documents/UTS2024/Assignments/A2_24542250/data/processed/sales.npy')"
   ]
  },
  {
   "cell_type": "code",
   "execution_count": null,
   "id": "17019fef-41c9-4259-bdda-dec358b2d3f4",
   "metadata": {},
   "outputs": [],
   "source": [
    "df.head()"
   ]
  },
  {
   "cell_type": "code",
   "execution_count": 4,
   "id": "63c504b2-04ed-4f75-9622-99b44d5de702",
   "metadata": {},
   "outputs": [],
   "source": [
    "from code_pkg.features.dates import convert_to_date"
   ]
  },
  {
   "cell_type": "code",
   "execution_count": 5,
   "id": "09ba9073-65d5-4673-bd3d-1d8b16bd4f9b",
   "metadata": {},
   "outputs": [],
   "source": [
    "df = convert_to_date(df, ['date'])\n"
   ]
  },
  {
   "cell_type": "code",
   "execution_count": 6,
   "id": "d6b4df8b-32ac-4340-af7d-cecc9e8c80ef",
   "metadata": {},
   "outputs": [],
   "source": [
    "# Extracting the day of week and adding as a new column\n",
    "df['weekday'] = df['date'].dt.dayofweek\n",
    "# Extracting the day of week and adding as a new column"
   ]
  },
  {
   "cell_type": "code",
   "execution_count": 7,
   "id": "788a4f88-7d3e-47e9-9da8-23b885dd9d12",
   "metadata": {},
   "outputs": [],
   "source": [
    "num_cols = ['sales','sell_price']"
   ]
  },
  {
   "cell_type": "code",
   "execution_count": 8,
   "id": "83f23da4-3f13-4cad-9230-868e66c70a56",
   "metadata": {},
   "outputs": [],
   "source": [
    "cat_cols = ['store_id','dept_id','cat_id','state_id','event_name','event_type']"
   ]
  },
  {
   "cell_type": "code",
   "execution_count": 9,
   "id": "64da62cc-005d-4b4c-ae6b-a7067af3a450",
   "metadata": {},
   "outputs": [],
   "source": [
    "label_encoder = LabelEncoder()\n",
    "\n",
    "\n",
    "for column in cat_cols:\n",
    "    df[column + '_encoded'] = label_encoder.fit_transform(df[column])"
   ]
  },
  {
   "cell_type": "code",
   "execution_count": 10,
   "id": "8413cd4f-f9a1-4193-a553-70625c668c7f",
   "metadata": {},
   "outputs": [],
   "source": [
    "from code_pkg.data.sets import split_sets_by_time\n",
    "\n",
    "\n",
    "X_train, y_train, X_val, y_val, X_test, y_test = split_sets_by_time(df,'sales',test_ratio=0.2)"
   ]
  },
  {
   "cell_type": "code",
   "execution_count": 11,
   "id": "ccc37e39-3bce-4469-9284-045f73f8b3ed",
   "metadata": {},
   "outputs": [],
   "source": [
    "from code_pkg.data.sets import save_sets"
   ]
  },
  {
   "cell_type": "code",
   "execution_count": 13,
   "id": "d8c379f6-1cbc-4691-b869-1f853c7c22f1",
   "metadata": {},
   "outputs": [],
   "source": [
    "save_sets(X_train, y_train, X_val, y_val, X_test, y_test, path='/Users/thusondube/Documents/UTS2024/Assignments/A2_24542250/data/processed/')"
   ]
  },
  {
   "cell_type": "code",
   "execution_count": 20,
   "id": "5157134b-97c5-44cb-ace8-c8ec79efa47e",
   "metadata": {},
   "outputs": [],
   "source": [
    "def if_weekends(df,weekends = [5,6]):\n",
    "    if df in weekends:\n",
    "        return 1\n",
    "    else:\n",
    "        return 0"
   ]
  },
  {
   "cell_type": "code",
   "execution_count": 21,
   "id": "d4de0053-972e-4baa-af98-b0991f0ecdc5",
   "metadata": {},
   "outputs": [],
   "source": [
    "df['if_weekend']=df['weekday'].apply(if_weekends)"
   ]
  },
  {
   "cell_type": "code",
   "execution_count": 19,
   "id": "a372b9ae-8f6a-4619-9576-3fc5c1302514",
   "metadata": {},
   "outputs": [
    {
     "data": {
      "text/html": [
       "<div>\n",
       "<style scoped>\n",
       "    .dataframe tbody tr th:only-of-type {\n",
       "        vertical-align: middle;\n",
       "    }\n",
       "\n",
       "    .dataframe tbody tr th {\n",
       "        vertical-align: top;\n",
       "    }\n",
       "\n",
       "    .dataframe thead th {\n",
       "        text-align: right;\n",
       "    }\n",
       "</style>\n",
       "<table border=\"1\" class=\"dataframe\">\n",
       "  <thead>\n",
       "    <tr style=\"text-align: right;\">\n",
       "      <th></th>\n",
       "      <th>key</th>\n",
       "      <th>id</th>\n",
       "      <th>item_id</th>\n",
       "      <th>dept_id</th>\n",
       "      <th>cat_id</th>\n",
       "      <th>store_id</th>\n",
       "      <th>state_id</th>\n",
       "      <th>d</th>\n",
       "      <th>sales</th>\n",
       "      <th>date</th>\n",
       "      <th>...</th>\n",
       "      <th>event_type</th>\n",
       "      <th>sell_price</th>\n",
       "      <th>weekday</th>\n",
       "      <th>store_id_encoded</th>\n",
       "      <th>dept_id_encoded</th>\n",
       "      <th>cat_id_encoded</th>\n",
       "      <th>state_id_encoded</th>\n",
       "      <th>event_name_encoded</th>\n",
       "      <th>event_type_encoded</th>\n",
       "      <th>if_weekend</th>\n",
       "    </tr>\n",
       "  </thead>\n",
       "  <tbody>\n",
       "    <tr>\n",
       "      <th>0</th>\n",
       "      <td>train</td>\n",
       "      <td>HOBBIES_1_008_CA_1_evaluation</td>\n",
       "      <td>HOBBIES_1_008</td>\n",
       "      <td>HOBBIES_1</td>\n",
       "      <td>HOBBIES</td>\n",
       "      <td>CA_1</td>\n",
       "      <td>CA</td>\n",
       "      <td>9</td>\n",
       "      <td>7</td>\n",
       "      <td>2011-02-06</td>\n",
       "      <td>...</td>\n",
       "      <td>Sporting</td>\n",
       "      <td>0.46</td>\n",
       "      <td>6</td>\n",
       "      <td>0</td>\n",
       "      <td>3</td>\n",
       "      <td>1</td>\n",
       "      <td>0</td>\n",
       "      <td>26</td>\n",
       "      <td>3</td>\n",
       "      <td>0</td>\n",
       "    </tr>\n",
       "    <tr>\n",
       "      <th>1</th>\n",
       "      <td>train</td>\n",
       "      <td>HOBBIES_1_009_CA_1_evaluation</td>\n",
       "      <td>HOBBIES_1_009</td>\n",
       "      <td>HOBBIES_1</td>\n",
       "      <td>HOBBIES</td>\n",
       "      <td>CA_1</td>\n",
       "      <td>CA</td>\n",
       "      <td>9</td>\n",
       "      <td>0</td>\n",
       "      <td>2011-02-06</td>\n",
       "      <td>...</td>\n",
       "      <td>Sporting</td>\n",
       "      <td>1.56</td>\n",
       "      <td>6</td>\n",
       "      <td>0</td>\n",
       "      <td>3</td>\n",
       "      <td>1</td>\n",
       "      <td>0</td>\n",
       "      <td>26</td>\n",
       "      <td>3</td>\n",
       "      <td>0</td>\n",
       "    </tr>\n",
       "    <tr>\n",
       "      <th>2</th>\n",
       "      <td>train</td>\n",
       "      <td>HOBBIES_1_010_CA_1_evaluation</td>\n",
       "      <td>HOBBIES_1_010</td>\n",
       "      <td>HOBBIES_1</td>\n",
       "      <td>HOBBIES</td>\n",
       "      <td>CA_1</td>\n",
       "      <td>CA</td>\n",
       "      <td>9</td>\n",
       "      <td>0</td>\n",
       "      <td>2011-02-06</td>\n",
       "      <td>...</td>\n",
       "      <td>Sporting</td>\n",
       "      <td>3.17</td>\n",
       "      <td>6</td>\n",
       "      <td>0</td>\n",
       "      <td>3</td>\n",
       "      <td>1</td>\n",
       "      <td>0</td>\n",
       "      <td>26</td>\n",
       "      <td>3</td>\n",
       "      <td>0</td>\n",
       "    </tr>\n",
       "    <tr>\n",
       "      <th>3</th>\n",
       "      <td>train</td>\n",
       "      <td>HOBBIES_1_012_CA_1_evaluation</td>\n",
       "      <td>HOBBIES_1_012</td>\n",
       "      <td>HOBBIES_1</td>\n",
       "      <td>HOBBIES</td>\n",
       "      <td>CA_1</td>\n",
       "      <td>CA</td>\n",
       "      <td>9</td>\n",
       "      <td>0</td>\n",
       "      <td>2011-02-06</td>\n",
       "      <td>...</td>\n",
       "      <td>Sporting</td>\n",
       "      <td>5.98</td>\n",
       "      <td>6</td>\n",
       "      <td>0</td>\n",
       "      <td>3</td>\n",
       "      <td>1</td>\n",
       "      <td>0</td>\n",
       "      <td>26</td>\n",
       "      <td>3</td>\n",
       "      <td>0</td>\n",
       "    </tr>\n",
       "    <tr>\n",
       "      <th>4</th>\n",
       "      <td>train</td>\n",
       "      <td>HOBBIES_1_015_CA_1_evaluation</td>\n",
       "      <td>HOBBIES_1_015</td>\n",
       "      <td>HOBBIES_1</td>\n",
       "      <td>HOBBIES</td>\n",
       "      <td>CA_1</td>\n",
       "      <td>CA</td>\n",
       "      <td>9</td>\n",
       "      <td>0</td>\n",
       "      <td>2011-02-06</td>\n",
       "      <td>...</td>\n",
       "      <td>Sporting</td>\n",
       "      <td>0.70</td>\n",
       "      <td>6</td>\n",
       "      <td>0</td>\n",
       "      <td>3</td>\n",
       "      <td>1</td>\n",
       "      <td>0</td>\n",
       "      <td>26</td>\n",
       "      <td>3</td>\n",
       "      <td>0</td>\n",
       "    </tr>\n",
       "  </tbody>\n",
       "</table>\n",
       "<p>5 rows × 22 columns</p>\n",
       "</div>"
      ],
      "text/plain": [
       "     key                             id        item_id    dept_id   cat_id  \\\n",
       "0  train  HOBBIES_1_008_CA_1_evaluation  HOBBIES_1_008  HOBBIES_1  HOBBIES   \n",
       "1  train  HOBBIES_1_009_CA_1_evaluation  HOBBIES_1_009  HOBBIES_1  HOBBIES   \n",
       "2  train  HOBBIES_1_010_CA_1_evaluation  HOBBIES_1_010  HOBBIES_1  HOBBIES   \n",
       "3  train  HOBBIES_1_012_CA_1_evaluation  HOBBIES_1_012  HOBBIES_1  HOBBIES   \n",
       "4  train  HOBBIES_1_015_CA_1_evaluation  HOBBIES_1_015  HOBBIES_1  HOBBIES   \n",
       "\n",
       "  store_id state_id  d  sales       date  ...  event_type sell_price weekday  \\\n",
       "0     CA_1       CA  9      7 2011-02-06  ...    Sporting       0.46       6   \n",
       "1     CA_1       CA  9      0 2011-02-06  ...    Sporting       1.56       6   \n",
       "2     CA_1       CA  9      0 2011-02-06  ...    Sporting       3.17       6   \n",
       "3     CA_1       CA  9      0 2011-02-06  ...    Sporting       5.98       6   \n",
       "4     CA_1       CA  9      0 2011-02-06  ...    Sporting       0.70       6   \n",
       "\n",
       "   store_id_encoded  dept_id_encoded  cat_id_encoded  state_id_encoded  \\\n",
       "0                 0                3               1                 0   \n",
       "1                 0                3               1                 0   \n",
       "2                 0                3               1                 0   \n",
       "3                 0                3               1                 0   \n",
       "4                 0                3               1                 0   \n",
       "\n",
       "   event_name_encoded  event_type_encoded  if_weekend  \n",
       "0                  26                   3           0  \n",
       "1                  26                   3           0  \n",
       "2                  26                   3           0  \n",
       "3                  26                   3           0  \n",
       "4                  26                   3           0  \n",
       "\n",
       "[5 rows x 22 columns]"
      ]
     },
     "execution_count": 19,
     "metadata": {},
     "output_type": "execute_result"
    }
   ],
   "source": [
    "df.head()"
   ]
  }
 ],
 "metadata": {
  "kernelspec": {
   "display_name": "Python 3.10.7 64-bit",
   "language": "python",
   "name": "python3"
  },
  "language_info": {
   "codemirror_mode": {
    "name": "ipython",
    "version": 3
   },
   "file_extension": ".py",
   "mimetype": "text/x-python",
   "name": "python",
   "nbconvert_exporter": "python",
   "pygments_lexer": "ipython3",
   "version": "3.10.7"
  },
  "vscode": {
   "interpreter": {
    "hash": "7e1998ff7f8aa20ada591c520b972326324e5ea05489af9e422744c7c09f6dad"
   }
  }
 },
 "nbformat": 4,
 "nbformat_minor": 5
}
