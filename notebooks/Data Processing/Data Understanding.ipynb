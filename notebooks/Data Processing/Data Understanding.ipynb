{
 "cells": [
  {
   "cell_type": "markdown",
   "id": "2a47f4ef-4b55-4080-9839-529fd5afc0d1",
   "metadata": {},
   "source": [
    "# Data Understanding "
   ]
  },
  {
   "cell_type": "code",
   "execution_count": 8,
   "id": "fbe7a250-2cbe-4398-aa92-a0f3a6acd51d",
   "metadata": {},
   "outputs": [],
   "source": [
    "#Import All required packages\n",
    "import pandas as pd\n",
    "import numpy as np\n",
    "from dateutil.relativedelta import relativedelta\n",
    "import matplotlib.pyplot as plt\n",
    "import seaborn as sns\n",
    "\n"
   ]
  },
  {
   "cell_type": "markdown",
   "id": "d65c41bd-aea8-453c-a6a2-1af7045a048f",
   "metadata": {},
   "source": [
    "# Exploring Data Properties"
   ]
  },
  {
   "cell_type": "code",
   "execution_count": 15,
   "id": "542e0dbc-b3cd-434e-8081-b045211d3695",
   "metadata": {},
   "outputs": [
    {
     "name": "stdout",
     "output_type": "stream",
     "text": [
      "Colums present in dataFrame are ['key' 'id' 'item_id' 'dept_id' 'cat_id' 'store_id' 'state_id' 'd' 'sales'\n",
      " 'date' 'wm_yr_wk' 'event_name' 'event_type' 'sell_price']\n"
     ]
    }
   ],
   "source": [
    "print(\"Colums present in dataFrame are\",data.columns.values)"
   ]
  },
  {
   "cell_type": "code",
   "execution_count": 16,
   "id": "17379ca2-92dc-4edb-a417-04f556ee140c",
   "metadata": {},
   "outputs": [
    {
     "name": "stdout",
     "output_type": "stream",
     "text": [
      "Complete information about data Frame is:-\n",
      "\n",
      "<class 'pandas.core.frame.DataFrame'>\n",
      "RangeIndex: 3902833 entries, 0 to 3902832\n",
      "Data columns (total 14 columns):\n",
      " #   Column      Dtype  \n",
      "---  ------      -----  \n",
      " 0   key         object \n",
      " 1   id          object \n",
      " 2   item_id     object \n",
      " 3   dept_id     object \n",
      " 4   cat_id      object \n",
      " 5   store_id    object \n",
      " 6   state_id    object \n",
      " 7   d           int64  \n",
      " 8   sales       int64  \n",
      " 9   date        object \n",
      " 10  wm_yr_wk    int64  \n",
      " 11  event_name  object \n",
      " 12  event_type  object \n",
      " 13  sell_price  float64\n",
      "dtypes: float64(1), int64(3), object(10)\n",
      "memory usage: 416.9+ MB\n",
      "None\n"
     ]
    }
   ],
   "source": [
    "print(\"Complete information about data Frame is:-\\n\")\n",
    "print(data.info())"
   ]
  },
  {
   "cell_type": "code",
   "execution_count": 5,
   "id": "793ded43-cbb9-4bea-b1fd-83b3178c96c2",
   "metadata": {},
   "outputs": [
    {
     "name": "stdout",
     "output_type": "stream",
     "text": [
      "There are these unique stores in this data= ['CA_1' 'CA_2' 'CA_3' 'CA_4' 'TX_1' 'TX_2' 'TX_3' 'WI_1' 'WI_2' 'WI_3']\n"
     ]
    }
   ],
   "source": [
    "print(\"There are these unique stores in this data=\",data['store_id'].unique())"
   ]
  },
  {
   "cell_type": "code",
   "execution_count": 17,
   "id": "016cdb24-90fa-4317-abe8-147c09537a17",
   "metadata": {},
   "outputs": [
    {
     "name": "stdout",
     "output_type": "stream",
     "text": [
      "time period: 2011-02-06 00:00:00,2016-05-08 00:00:00\n",
      "Duration in months: 63\n"
     ]
    }
   ],
   "source": [
    "\n",
    "# Convert the 'date' column to datetime\n",
    "data['date'] = pd.to_datetime(data['date'])\n",
    "\n",
    "# Find the minimum and maximum dates\n",
    "min_date = data['date'].min()\n",
    "max_date = data['date'].max()\n",
    "\n",
    "# Calculate the duration in months\n",
    "duration = relativedelta(max_date, min_date)\n",
    "months_duration = duration.years * 12 + duration.months\n",
    "print(f\"time period: {min_date},{max_date}\")\n",
    "print(f\"Duration in months: {months_duration}\")"
   ]
  },
  {
   "cell_type": "markdown",
   "id": "8283f476-99ca-4161-9959-db9e3e0787ba",
   "metadata": {},
   "source": [
    "# Exploratory Data Analysis"
   ]
  },
  {
   "cell_type": "markdown",
   "id": "8d046f60-ec4a-4586-a8bf-8910c06c2f24",
   "metadata": {},
   "source": [
    "**[1]**  Bar plot and Pie of Sales distribution "
   ]
  },
  {
   "cell_type": "code",
   "execution_count": null,
   "id": "37efd124-affa-4746-aabc-bbfb028e33cf",
   "metadata": {},
   "outputs": [],
   "source": [
    "df=data.groupby('cat_id').mean()\n",
    "df.reset_index(level=0,inplace=True)\n",
    "plt.figure(figsize=(20,10))\n",
    "plt.subplot(121)\n",
    "sns.barplot(x='cat_id',y='sales',data=df)\n",
    "plt.title(\"Bar-Graph for Avg Sales According to each categories\")\n",
    "\n",
    "plt.subplot(122)\n",
    "df=data.groupby('cat_id').sum()\n",
    "df.reset_index(level=0,inplace=True)\n",
    "df['perc']=df['sales']/sum(df['sales'].values)*100\n",
    "plt.pie(df['perc'].values,labels=df['cat_id'].values,shadow=True,autopct='%1.1f%%')\n",
    "plt.title(\"Pie Chart showing total sales for each categories\")\n",
    "plt.show()"
   ]
  },
  {
   "cell_type": "code",
   "execution_count": null,
   "id": "63d56b6c-5735-433b-9bb7-6f241b809a92",
   "metadata": {},
   "outputs": [],
   "source": [
    "# Bar Chart showing distribution of Sales across thr various states \n",
    "\n",
    "df=data.groupby('state_id').mean()\n",
    "df.reset_index(level=0,inplace=True)\n",
    "plt.figure(figsize=(20,10))\n",
    "plt.subplot(121)\n",
    "sns.barplot(x='state_id',y='sales',data=df)\n",
    "plt.title(\"Bar-Graph for Avg Sales According to each state\")"
   ]
  },
  {
   "cell_type": "code",
   "execution_count": null,
   "id": "bae6776d-ea26-49f6-856e-5faaf231c6e1",
   "metadata": {},
   "outputs": [],
   "source": []
  }
 ],
 "metadata": {
  "kernelspec": {
   "display_name": "Python 3 (ipykernel)",
   "language": "python",
   "name": "python3"
  },
  "language_info": {
   "codemirror_mode": {
    "name": "ipython",
    "version": 3
   },
   "file_extension": ".py",
   "mimetype": "text/x-python",
   "name": "python",
   "nbconvert_exporter": "python",
   "pygments_lexer": "ipython3",
   "version": "3.10.7"
  }
 },
 "nbformat": 4,
 "nbformat_minor": 5
}
