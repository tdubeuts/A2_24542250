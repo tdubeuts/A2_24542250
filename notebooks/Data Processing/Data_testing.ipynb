{
 "cells": [
  {
   "cell_type": "code",
   "execution_count": 5,
   "id": "0dc0bb8b-acfd-4f32-873a-2f0d75f2e51a",
   "metadata": {},
   "outputs": [],
   "source": [
    "import pandas as pd \n",
    "import numpy as np"
   ]
  },
  {
   "cell_type": "code",
   "execution_count": 3,
   "id": "119114f9-9adc-4418-b6b8-95d3e603c465",
   "metadata": {},
   "outputs": [
    {
     "name": "stdout",
     "output_type": "stream",
     "text": [
      "Looking in indexes: https://test.pypi.org/simple/\n",
      "Collecting code_pkg==2024.0.1.0\n",
      "  Downloading https://test-files.pythonhosted.org/packages/de/65/774c6f97b609ea2a3eddd480fa286368fbcb3b3313f8d2e978b547149fe8/code_pkg-2024.0.1.0-py3-none-any.whl.metadata (1.1 kB)\n",
      "Downloading https://test-files.pythonhosted.org/packages/de/65/774c6f97b609ea2a3eddd480fa286368fbcb3b3313f8d2e978b547149fe8/code_pkg-2024.0.1.0-py3-none-any.whl (5.9 kB)\n",
      "Installing collected packages: code_pkg\n",
      "  Attempting uninstall: code_pkg\n",
      "    Found existing installation: code_pkg 0.1.0\n",
      "    Uninstalling code_pkg-0.1.0:\n",
      "      Successfully uninstalled code_pkg-0.1.0\n",
      "Successfully installed code_pkg-2024.0.1.0\n"
     ]
    }
   ],
   "source": [
    "!pip install -i https://test.pypi.org/simple/ code_pkg==2024.0.1.0"
   ]
  },
  {
   "cell_type": "code",
   "execution_count": 10,
   "id": "ae4848fe-7bec-4b2e-a3cc-e47dbe3b2085",
   "metadata": {},
   "outputs": [],
   "source": [
    "df = pd.read_csv('/Users/thusondube/Documents/UTS2024/Assignments/A2_24542250/data/processed/sales_final_sample.csv')"
   ]
  },
  {
   "cell_type": "code",
   "execution_count": 11,
   "id": "a0211116-638f-436d-bb70-f952b8b8daf1",
   "metadata": {},
   "outputs": [],
   "source": [
    "from code_pkg.features.dates import convert_to_date"
   ]
  },
  {
   "cell_type": "code",
   "execution_count": 12,
   "id": "8665b753-2fb4-497e-aff3-9cb720d76741",
   "metadata": {},
   "outputs": [],
   "source": [
    "df_cleaned = df.copy()"
   ]
  },
  {
   "cell_type": "code",
   "execution_count": 14,
   "id": "4d77d8b1-83af-4b08-9218-60ea25e32183",
   "metadata": {},
   "outputs": [],
   "source": [
    "from code_pkg.data.sets import split_sets_by_time\n",
    "\n",
    "X_train, y_train, X_val, y_val, X_test, y_test = split_sets_by_time(df_cleaned, 'sales', test_ratio=0.2)"
   ]
  },
  {
   "cell_type": "code",
   "execution_count": 15,
   "id": "11d6eb69-4c32-4bb8-a02a-fd9e1798e76c",
   "metadata": {},
   "outputs": [],
   "source": [
    "from code_pkg.data.sets import save_sets"
   ]
  },
  {
   "cell_type": "code",
   "execution_count": 22,
   "id": "5b3ba015-b28a-4f3c-8e6f-13c7314c6ec2",
   "metadata": {},
   "outputs": [],
   "source": [
    "save_sets(X_train, y_train, X_val, y_val, X_test, y_test, path='/Users/thusondube/Documents/UTS2024/Assignments/A2_24542250/data/processed/')"
   ]
  },
  {
   "cell_type": "code",
   "execution_count": 18,
   "id": "8366aaef-0d5a-47c1-8902-d80d6938f09a",
   "metadata": {},
   "outputs": [],
   "source": [
    "from code_pkg.models.null import NullRegressor"
   ]
  },
  {
   "cell_type": "code",
   "execution_count": 19,
   "id": "fc39d4fe-7c0f-4ea4-8f6b-c348762da90d",
   "metadata": {},
   "outputs": [],
   "source": [
    "base_model = NullRegressor()"
   ]
  },
  {
   "cell_type": "code",
   "execution_count": 20,
   "id": "d0fa992b-f905-4b63-a5f2-26a837c1ea6e",
   "metadata": {},
   "outputs": [],
   "source": [
    "y_base = base_model.fit_predict(y_train)"
   ]
  },
  {
   "cell_type": "code",
   "execution_count": 21,
   "id": "2bd62a7c-0929-4ba2-9d69-b3407b35f75a",
   "metadata": {},
   "outputs": [
    {
     "name": "stdout",
     "output_type": "stream",
     "text": [
      "RMSE Training: 3.079220680626837\n",
      "MAE Training: 1.57\n"
     ]
    }
   ],
   "source": [
    "from code_pkg.models.performance import print_regressor_scores\n",
    "\n",
    "print_regressor_scores(y_preds=y_base, y_actuals=y_train, set_name='Training')"
   ]
  },
  {
   "cell_type": "code",
   "execution_count": 23,
   "id": "3b8e14c7-4012-4a8f-900c-df681410a1bb",
   "metadata": {},
   "outputs": [
    {
     "name": "stdout",
     "output_type": "stream",
     "text": [
      "RMSE Validation: 1.934982577636702\n",
      "MAE Validation: 1.461818181818182\n"
     ]
    }
   ],
   "source": [
    "print_regressor_scores(y_preds=base_model.predict(y_val), y_actuals=y_val, set_name='Validation')"
   ]
  },
  {
   "cell_type": "code",
   "execution_count": 24,
   "id": "8a628678-bc47-4e79-a83d-c13b91812ae4",
   "metadata": {},
   "outputs": [
    {
     "name": "stdout",
     "output_type": "stream",
     "text": [
      "RMSE Testing: 5.527663762084907\n",
      "MAE Testing: 2.0072727272727273\n"
     ]
    }
   ],
   "source": [
    "print_regressor_scores(y_preds=base_model.predict(y_test), y_actuals=y_test, set_name='Testing')"
   ]
  },
  {
   "cell_type": "code",
   "execution_count": 29,
   "id": "864c9a85-2b68-4d7e-b9a5-bcbfae2a8812",
   "metadata": {},
   "outputs": [
    {
     "data": {
      "text/html": [
       "<div>\n",
       "<style scoped>\n",
       "    .dataframe tbody tr th:only-of-type {\n",
       "        vertical-align: middle;\n",
       "    }\n",
       "\n",
       "    .dataframe tbody tr th {\n",
       "        vertical-align: top;\n",
       "    }\n",
       "\n",
       "    .dataframe thead th {\n",
       "        text-align: right;\n",
       "    }\n",
       "</style>\n",
       "<table border=\"1\" class=\"dataframe\">\n",
       "  <thead>\n",
       "    <tr style=\"text-align: right;\">\n",
       "      <th></th>\n",
       "      <th>key</th>\n",
       "      <th>id</th>\n",
       "      <th>item_id</th>\n",
       "      <th>dept_id</th>\n",
       "      <th>cat_id</th>\n",
       "      <th>store_id</th>\n",
       "      <th>state_id</th>\n",
       "      <th>d</th>\n",
       "      <th>date</th>\n",
       "      <th>wm_yr_wk</th>\n",
       "      <th>event_name</th>\n",
       "      <th>event_type</th>\n",
       "      <th>sell_price</th>\n",
       "    </tr>\n",
       "  </thead>\n",
       "  <tbody>\n",
       "    <tr>\n",
       "      <th>0</th>\n",
       "      <td>train</td>\n",
       "      <td>HOUSEHOLD_1_024_TX_2_evaluation</td>\n",
       "      <td>HOUSEHOLD_1_024</td>\n",
       "      <td>HOUSEHOLD_1</td>\n",
       "      <td>HOUSEHOLD</td>\n",
       "      <td>TX_2</td>\n",
       "      <td>TX</td>\n",
       "      <td>d_828</td>\n",
       "      <td>5/5/2013</td>\n",
       "      <td>11315</td>\n",
       "      <td>Cinco De Mayo</td>\n",
       "      <td>Cultural</td>\n",
       "      <td>1.47</td>\n",
       "    </tr>\n",
       "    <tr>\n",
       "      <th>1</th>\n",
       "      <td>train</td>\n",
       "      <td>HOUSEHOLD_1_024_TX_2_evaluation</td>\n",
       "      <td>HOUSEHOLD_1_024</td>\n",
       "      <td>HOUSEHOLD_1</td>\n",
       "      <td>HOUSEHOLD</td>\n",
       "      <td>TX_2</td>\n",
       "      <td>TX</td>\n",
       "      <td>d_828</td>\n",
       "      <td>5/5/2013</td>\n",
       "      <td>11315</td>\n",
       "      <td>OrthodoxEaster</td>\n",
       "      <td>Religious</td>\n",
       "      <td>1.47</td>\n",
       "    </tr>\n",
       "    <tr>\n",
       "      <th>2</th>\n",
       "      <td>train</td>\n",
       "      <td>FOODS_3_183_WI_3_evaluation</td>\n",
       "      <td>FOODS_3_183</td>\n",
       "      <td>FOODS_3</td>\n",
       "      <td>FOODS</td>\n",
       "      <td>WI_3</td>\n",
       "      <td>WI</td>\n",
       "      <td>d_828</td>\n",
       "      <td>5/5/2013</td>\n",
       "      <td>11315</td>\n",
       "      <td>Cinco De Mayo</td>\n",
       "      <td>Cultural</td>\n",
       "      <td>2.98</td>\n",
       "    </tr>\n",
       "    <tr>\n",
       "      <th>3</th>\n",
       "      <td>train</td>\n",
       "      <td>FOODS_3_183_WI_3_evaluation</td>\n",
       "      <td>FOODS_3_183</td>\n",
       "      <td>FOODS_3</td>\n",
       "      <td>FOODS</td>\n",
       "      <td>WI_3</td>\n",
       "      <td>WI</td>\n",
       "      <td>d_828</td>\n",
       "      <td>5/5/2013</td>\n",
       "      <td>11315</td>\n",
       "      <td>OrthodoxEaster</td>\n",
       "      <td>Religious</td>\n",
       "      <td>2.98</td>\n",
       "    </tr>\n",
       "    <tr>\n",
       "      <th>4</th>\n",
       "      <td>test</td>\n",
       "      <td>FOODS_3_720_CA_3_evaluation</td>\n",
       "      <td>FOODS_3_720</td>\n",
       "      <td>FOODS_3</td>\n",
       "      <td>FOODS</td>\n",
       "      <td>CA_3</td>\n",
       "      <td>CA</td>\n",
       "      <td>d_1924</td>\n",
       "      <td>5/5/2016</td>\n",
       "      <td>11614</td>\n",
       "      <td>Cinco De Mayo</td>\n",
       "      <td>Cultural</td>\n",
       "      <td>4.54</td>\n",
       "    </tr>\n",
       "    <tr>\n",
       "      <th>...</th>\n",
       "      <td>...</td>\n",
       "      <td>...</td>\n",
       "      <td>...</td>\n",
       "      <td>...</td>\n",
       "      <td>...</td>\n",
       "      <td>...</td>\n",
       "      <td>...</td>\n",
       "      <td>...</td>\n",
       "      <td>...</td>\n",
       "      <td>...</td>\n",
       "      <td>...</td>\n",
       "      <td>...</td>\n",
       "      <td>...</td>\n",
       "    </tr>\n",
       "    <tr>\n",
       "      <th>195</th>\n",
       "      <td>train</td>\n",
       "      <td>HOUSEHOLD_2_159_TX_2_evaluation</td>\n",
       "      <td>HOUSEHOLD_2_159</td>\n",
       "      <td>HOUSEHOLD_2</td>\n",
       "      <td>HOUSEHOLD</td>\n",
       "      <td>TX_2</td>\n",
       "      <td>TX</td>\n",
       "      <td>d_1497</td>\n",
       "      <td>5/3/2015</td>\n",
       "      <td>11505</td>\n",
       "      <td>Purim End</td>\n",
       "      <td>Religious</td>\n",
       "      <td>3.93</td>\n",
       "    </tr>\n",
       "    <tr>\n",
       "      <th>196</th>\n",
       "      <td>train</td>\n",
       "      <td>HOUSEHOLD_2_048_CA_2_evaluation</td>\n",
       "      <td>HOUSEHOLD_2_048</td>\n",
       "      <td>HOUSEHOLD_2</td>\n",
       "      <td>HOUSEHOLD</td>\n",
       "      <td>CA_2</td>\n",
       "      <td>CA</td>\n",
       "      <td>d_1497</td>\n",
       "      <td>5/3/2015</td>\n",
       "      <td>11505</td>\n",
       "      <td>Purim End</td>\n",
       "      <td>Religious</td>\n",
       "      <td>3.94</td>\n",
       "    </tr>\n",
       "    <tr>\n",
       "      <th>197</th>\n",
       "      <td>train</td>\n",
       "      <td>FOODS_3_748_WI_1_evaluation</td>\n",
       "      <td>FOODS_3_748</td>\n",
       "      <td>FOODS_3</td>\n",
       "      <td>FOODS</td>\n",
       "      <td>WI_1</td>\n",
       "      <td>WI</td>\n",
       "      <td>d_1497</td>\n",
       "      <td>5/3/2015</td>\n",
       "      <td>11505</td>\n",
       "      <td>Purim End</td>\n",
       "      <td>Religious</td>\n",
       "      <td>3.98</td>\n",
       "    </tr>\n",
       "    <tr>\n",
       "      <th>198</th>\n",
       "      <td>train</td>\n",
       "      <td>FOODS_3_391_TX_2_evaluation</td>\n",
       "      <td>FOODS_3_391</td>\n",
       "      <td>FOODS_3</td>\n",
       "      <td>FOODS</td>\n",
       "      <td>TX_2</td>\n",
       "      <td>TX</td>\n",
       "      <td>d_1497</td>\n",
       "      <td>5/3/2015</td>\n",
       "      <td>11505</td>\n",
       "      <td>Purim End</td>\n",
       "      <td>Religious</td>\n",
       "      <td>2.98</td>\n",
       "    </tr>\n",
       "    <tr>\n",
       "      <th>199</th>\n",
       "      <td>train</td>\n",
       "      <td>FOODS_3_701_CA_1_evaluation</td>\n",
       "      <td>FOODS_3_701</td>\n",
       "      <td>FOODS_3</td>\n",
       "      <td>FOODS</td>\n",
       "      <td>CA_1</td>\n",
       "      <td>CA</td>\n",
       "      <td>d_1497</td>\n",
       "      <td>5/3/2015</td>\n",
       "      <td>11505</td>\n",
       "      <td>Purim End</td>\n",
       "      <td>Religious</td>\n",
       "      <td>1.98</td>\n",
       "    </tr>\n",
       "  </tbody>\n",
       "</table>\n",
       "<p>200 rows × 13 columns</p>\n",
       "</div>"
      ],
      "text/plain": [
       "       key                               id          item_id      dept_id  \\\n",
       "0    train  HOUSEHOLD_1_024_TX_2_evaluation  HOUSEHOLD_1_024  HOUSEHOLD_1   \n",
       "1    train  HOUSEHOLD_1_024_TX_2_evaluation  HOUSEHOLD_1_024  HOUSEHOLD_1   \n",
       "2    train      FOODS_3_183_WI_3_evaluation      FOODS_3_183      FOODS_3   \n",
       "3    train      FOODS_3_183_WI_3_evaluation      FOODS_3_183      FOODS_3   \n",
       "4     test      FOODS_3_720_CA_3_evaluation      FOODS_3_720      FOODS_3   \n",
       "..     ...                              ...              ...          ...   \n",
       "195  train  HOUSEHOLD_2_159_TX_2_evaluation  HOUSEHOLD_2_159  HOUSEHOLD_2   \n",
       "196  train  HOUSEHOLD_2_048_CA_2_evaluation  HOUSEHOLD_2_048  HOUSEHOLD_2   \n",
       "197  train      FOODS_3_748_WI_1_evaluation      FOODS_3_748      FOODS_3   \n",
       "198  train      FOODS_3_391_TX_2_evaluation      FOODS_3_391      FOODS_3   \n",
       "199  train      FOODS_3_701_CA_1_evaluation      FOODS_3_701      FOODS_3   \n",
       "\n",
       "        cat_id store_id state_id       d      date  wm_yr_wk      event_name  \\\n",
       "0    HOUSEHOLD     TX_2       TX   d_828  5/5/2013     11315   Cinco De Mayo   \n",
       "1    HOUSEHOLD     TX_2       TX   d_828  5/5/2013     11315  OrthodoxEaster   \n",
       "2        FOODS     WI_3       WI   d_828  5/5/2013     11315   Cinco De Mayo   \n",
       "3        FOODS     WI_3       WI   d_828  5/5/2013     11315  OrthodoxEaster   \n",
       "4        FOODS     CA_3       CA  d_1924  5/5/2016     11614   Cinco De Mayo   \n",
       "..         ...      ...      ...     ...       ...       ...             ...   \n",
       "195  HOUSEHOLD     TX_2       TX  d_1497  5/3/2015     11505       Purim End   \n",
       "196  HOUSEHOLD     CA_2       CA  d_1497  5/3/2015     11505       Purim End   \n",
       "197      FOODS     WI_1       WI  d_1497  5/3/2015     11505       Purim End   \n",
       "198      FOODS     TX_2       TX  d_1497  5/3/2015     11505       Purim End   \n",
       "199      FOODS     CA_1       CA  d_1497  5/3/2015     11505       Purim End   \n",
       "\n",
       "    event_type  sell_price  \n",
       "0     Cultural        1.47  \n",
       "1    Religious        1.47  \n",
       "2     Cultural        2.98  \n",
       "3    Religious        2.98  \n",
       "4     Cultural        4.54  \n",
       "..         ...         ...  \n",
       "195  Religious        3.93  \n",
       "196  Religious        3.94  \n",
       "197  Religious        3.98  \n",
       "198  Religious        2.98  \n",
       "199  Religious        1.98  \n",
       "\n",
       "[200 rows x 13 columns]"
      ]
     },
     "execution_count": 29,
     "metadata": {},
     "output_type": "execute_result"
    }
   ],
   "source": [
    "X_train\n",
    "\n"
   ]
  },
  {
   "cell_type": "code",
   "execution_count": null,
   "id": "2ccf1b81-abc3-46ee-915f-9ad1c782d31b",
   "metadata": {},
   "outputs": [],
   "source": []
  }
 ],
 "metadata": {
  "kernelspec": {
   "display_name": "Python 3 (ipykernel)",
   "language": "python",
   "name": "python3"
  },
  "language_info": {
   "codemirror_mode": {
    "name": "ipython",
    "version": 3
   },
   "file_extension": ".py",
   "mimetype": "text/x-python",
   "name": "python",
   "nbconvert_exporter": "python",
   "pygments_lexer": "ipython3",
   "version": "3.10.7"
  }
 },
 "nbformat": 4,
 "nbformat_minor": 5
}
