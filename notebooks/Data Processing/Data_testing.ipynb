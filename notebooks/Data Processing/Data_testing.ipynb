{
 "cells": [
  {
   "cell_type": "code",
   "execution_count": 25,
   "id": "0dc0bb8b-acfd-4f32-873a-2f0d75f2e51a",
   "metadata": {},
   "outputs": [],
   "source": [
    "import pandas as pd \n",
    "import numpy as np"
   ]
  },
  {
   "cell_type": "code",
   "execution_count": 30,
   "id": "119114f9-9adc-4418-b6b8-95d3e603c465",
   "metadata": {},
   "outputs": [
    {
     "name": "stdout",
     "output_type": "stream",
     "text": [
      "Looking in indexes: https://test.pypi.org/simple/\n",
      "Collecting code_pkg\n",
      "  Downloading https://test-files.pythonhosted.org/packages/2f/96/62a110f621883ad50c68edd4ae00a98fb4498b40c6e55fa1496fb872d7c3/code_pkg-0.1.0-py3-none-any.whl.metadata (1.1 kB)\n",
      "Downloading https://test-files.pythonhosted.org/packages/2f/96/62a110f621883ad50c68edd4ae00a98fb4498b40c6e55fa1496fb872d7c3/code_pkg-0.1.0-py3-none-any.whl (3.0 kB)\n",
      "Installing collected packages: code_pkg\n",
      "Successfully installed code_pkg-0.1.0\n"
     ]
    }
   ],
   "source": [
    "!pip install -i https://test.pypi.org/simple/ code_pkg"
   ]
  },
  {
   "cell_type": "code",
   "execution_count": 31,
   "id": "ae4848fe-7bec-4b2e-a3cc-e47dbe3b2085",
   "metadata": {},
   "outputs": [],
   "source": [
    "df = pd.read_csv('/Users/thusondube/Documents/UTS2024/Assignments/A2/data/processed/sales_final_sample.csv')"
   ]
  },
  {
   "cell_type": "code",
   "execution_count": 38,
   "id": "a0211116-638f-436d-bb70-f952b8b8daf1",
   "metadata": {},
   "outputs": [
    {
     "ename": "ImportError",
     "evalue": "cannot import name 'split_sets_by_time' from 'code_pkg.data.sets' (/Users/thusondube/Library/Caches/pypoetry/virtualenvs/my-pkg-24542250-hDsVnX8c-py3.10/lib/python3.10/site-packages/code_pkg/data/sets.py)",
     "output_type": "error",
     "traceback": [
      "\u001b[0;31m---------------------------------------------------------------------------\u001b[0m",
      "\u001b[0;31mImportError\u001b[0m                               Traceback (most recent call last)",
      "Cell \u001b[0;32mIn[38], line 1\u001b[0m\n\u001b[0;32m----> 1\u001b[0m \u001b[38;5;28;01mfrom\u001b[39;00m \u001b[38;5;21;01mcode_pkg\u001b[39;00m\u001b[38;5;21;01m.\u001b[39;00m\u001b[38;5;21;01mdata\u001b[39;00m\u001b[38;5;21;01m.\u001b[39;00m\u001b[38;5;21;01msets\u001b[39;00m \u001b[38;5;28;01mimport\u001b[39;00m split_sets_by_time\n",
      "\u001b[0;31mImportError\u001b[0m: cannot import name 'split_sets_by_time' from 'code_pkg.data.sets' (/Users/thusondube/Library/Caches/pypoetry/virtualenvs/my-pkg-24542250-hDsVnX8c-py3.10/lib/python3.10/site-packages/code_pkg/data/sets.py)"
     ]
    }
   ],
   "source": [
    "from code_pkg.data.sets import split_sets_by_time"
   ]
  },
  {
   "cell_type": "code",
   "execution_count": 8,
   "id": "16428ccd-2ddf-4102-8a8c-4529e6417ff9",
   "metadata": {},
   "outputs": [],
   "source": [
    "df_cleaned = df.copy()"
   ]
  },
  {
   "cell_type": "code",
   "execution_count": 24,
   "id": "4d77d8b1-83af-4b08-9218-60ea25e32183",
   "metadata": {},
   "outputs": [
    {
     "ename": "NameError",
     "evalue": "name 'max_train_index' is not defined",
     "output_type": "error",
     "traceback": [
      "\u001b[0;31m---------------------------------------------------------------------------\u001b[0m",
      "\u001b[0;31mNameError\u001b[0m                                 Traceback (most recent call last)",
      "Cell \u001b[0;32mIn[24], line 1\u001b[0m\n\u001b[0;32m----> 1\u001b[0m X_train, y_train, X_val, y_val, X_test, y_test \u001b[38;5;241m=\u001b[39m \u001b[43msplit_sets_by_time\u001b[49m\u001b[43m(\u001b[49m\u001b[43mdf_cleaned\u001b[49m\u001b[43m,\u001b[49m\u001b[38;5;124;43m'\u001b[39;49m\u001b[38;5;124;43msales\u001b[39;49m\u001b[38;5;124;43m'\u001b[39;49m\u001b[43m,\u001b[49m\u001b[38;5;124;43m'\u001b[39;49m\u001b[38;5;124;43mkey\u001b[39;49m\u001b[38;5;124;43m'\u001b[39;49m\u001b[43m,\u001b[49m\u001b[43m \u001b[49m\u001b[43mtest_ratio\u001b[49m\u001b[38;5;241;43m=\u001b[39;49m\u001b[38;5;241;43m0.2\u001b[39;49m\u001b[43m)\u001b[49m\n",
      "File \u001b[0;32m~/Documents/UTS2024/Assignments/A2/notebooks/Data Processing/functions.py:48\u001b[0m, in \u001b[0;36msplit_sets_by_time\u001b[0;34m(df, target_col, filter_col, train_value, test_value, test_ratio)\u001b[0m\n\u001b[1;32m      0\u001b[0m <Error retrieving source code with stack_data see ipython/ipython#13598>\n",
      "\u001b[0;31mNameError\u001b[0m: name 'max_train_index' is not defined"
     ]
    }
   ],
   "source": [
    "\n",
    "\n",
    "X_train, y_train, X_val, y_val, X_test, y_test = split_sets_by_time(df_cleaned,'sales','key', test_ratio=0.2)"
   ]
  }
 ],
 "metadata": {
  "kernelspec": {
   "display_name": "Python 3 (ipykernel)",
   "language": "python",
   "name": "python3"
  },
  "language_info": {
   "codemirror_mode": {
    "name": "ipython",
    "version": 3
   },
   "file_extension": ".py",
   "mimetype": "text/x-python",
   "name": "python",
   "nbconvert_exporter": "python",
   "pygments_lexer": "ipython3",
   "version": "3.10.7"
  }
 },
 "nbformat": 4,
 "nbformat_minor": 5
}
