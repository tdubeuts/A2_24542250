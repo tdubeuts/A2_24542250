{
 "cells": [
  {
   "cell_type": "code",
   "execution_count": 1,
   "id": "8c22094c-5f65-4c07-b817-c378086fe91f",
   "metadata": {},
   "outputs": [],
   "source": [
    "import pandas as pd\n",
    "from sklearn.preprocessing import LabelEncoder\n",
    "\n"
   ]
  },
  {
   "cell_type": "code",
   "execution_count": 2,
   "id": "f9196391-ffbf-443d-b6f5-cb6966fe73d3",
   "metadata": {},
   "outputs": [
    {
     "name": "stdout",
     "output_type": "stream",
     "text": [
      "Looking in indexes: https://test.pypi.org/simple/\n",
      "Requirement already satisfied: code_pkg==2024.0.1.0 in /Users/thusondube/Library/Caches/pypoetry/virtualenvs/adv-mla-lab-2-5yQ4FX6i-py3.10/lib/python3.10/site-packages (2024.0.1.0)\n"
     ]
    }
   ],
   "source": [
    "!pip install -i https://test.pypi.org/simple/ code_pkg==2024.0.1.0"
   ]
  },
  {
   "cell_type": "code",
   "execution_count": 2,
   "id": "04545a84-958c-460d-93a7-5e5d717df664",
   "metadata": {},
   "outputs": [],
   "source": [
    "df = pd.read_csv('/Users/thusondube/Documents/UTS2024/Assignments/A2_24542250/data/processed/sales.npy')"
   ]
  },
  {
   "cell_type": "code",
   "execution_count": null,
   "id": "17019fef-41c9-4259-bdda-dec358b2d3f4",
   "metadata": {},
   "outputs": [],
   "source": [
    "df.head()"
   ]
  },
  {
   "cell_type": "code",
   "execution_count": 4,
   "id": "63c504b2-04ed-4f75-9622-99b44d5de702",
   "metadata": {},
   "outputs": [],
   "source": [
    "from code_pkg.features.dates import convert_to_date"
   ]
  },
  {
   "cell_type": "code",
   "execution_count": 5,
   "id": "09ba9073-65d5-4673-bd3d-1d8b16bd4f9b",
   "metadata": {},
   "outputs": [],
   "source": [
    "df = convert_to_date(df, ['date'])\n"
   ]
  },
  {
   "cell_type": "code",
   "execution_count": 6,
   "id": "d6b4df8b-32ac-4340-af7d-cecc9e8c80ef",
   "metadata": {},
   "outputs": [],
   "source": [
    "# Extracting the day of week and adding as a new column\n",
    "df['weekday'] = df['date'].dt.dayofweek\n",
    "# Extracting the day of week and adding as a new column"
   ]
  },
  {
   "cell_type": "code",
   "execution_count": 33,
   "id": "dfb7f78c-1907-41f7-bf65-19db5cbce983",
   "metadata": {},
   "outputs": [],
   "source": [
    "def datetime_to_integer(df, datetime_column):\n",
    "    \"\"\"\n",
    "    Converts a datetime column in a DataFrame to an integer representing the number of seconds since the Unix epoch.\n",
    "\n",
    "    Parameters:\n",
    "    df (pd.DataFrame): The DataFrame containing the datetime column.\n",
    "    datetime_column (str): The name of the datetime column to convert.\n",
    "\n",
    "    Returns:\n",
    "    pd.DataFrame: The DataFrame with the datetime column converted to an integer.\n",
    "    \"\"\"\n",
    "    df[datetime_column + '_int'] = df[datetime_column].astype(int) // 10**9\n",
    "    return df"
   ]
  },
  {
   "cell_type": "code",
   "execution_count": 34,
   "id": "ce8b0690-996e-4620-b2c1-cfc18d76b088",
   "metadata": {},
   "outputs": [],
   "source": [
    "df = datetime_to_integer(df, 'date')"
   ]
  },
  {
   "cell_type": "code",
   "execution_count": 9,
   "id": "8f3b05d5-c980-44b2-8b4e-2397531ec229",
   "metadata": {},
   "outputs": [],
   "source": [
    "def datetime_to_day_month_year(df, datetime_column):\n",
    "    \"\"\"\n",
    "    Converts a datetime column in a DataFrame into separate columns for day, month, and year.\n",
    "\n",
    "    Parameters:\n",
    "    df (pd.DataFrame): The DataFrame containing the datetime column.\n",
    "    datetime_column (str): The name of the datetime column to convert.\n",
    "\n",
    "    Returns:\n",
    "    pd.DataFrame: The DataFrame with separate columns for day, month, and year.\n",
    "    \"\"\"\n",
    "    df[datetime_column] = pd.to_datetime(df[datetime_column])\n",
    "    df['day'] = df[datetime_column].dt.day\n",
    "    df['month'] = df[datetime_column].dt.month\n",
    "    df['year'] = df[datetime_column].dt.year\n",
    "    return df"
   ]
  },
  {
   "cell_type": "code",
   "execution_count": 10,
   "id": "83ce4d3e-567f-44c4-aac5-3bd99c582686",
   "metadata": {},
   "outputs": [],
   "source": [
    "df = datetime_to_day_month_year(df,'date')"
   ]
  },
  {
   "cell_type": "code",
   "execution_count": 35,
   "id": "6fe29508-0c3e-495c-a5f2-21f9eec724b5",
   "metadata": {},
   "outputs": [
    {
     "name": "stdout",
     "output_type": "stream",
     "text": [
      "<class 'pandas.core.frame.DataFrame'>\n",
      "RangeIndex: 3902833 entries, 0 to 3902832\n",
      "Data columns (total 26 columns):\n",
      " #   Column              Dtype         \n",
      "---  ------              -----         \n",
      " 0   key                 object        \n",
      " 1   id                  object        \n",
      " 2   item_id             object        \n",
      " 3   dept_id             object        \n",
      " 4   cat_id              object        \n",
      " 5   store_id            object        \n",
      " 6   state_id            object        \n",
      " 7   d                   int64         \n",
      " 8   sales               int64         \n",
      " 9   date                datetime64[ns]\n",
      " 10  wm_yr_wk            int64         \n",
      " 11  event_name          object        \n",
      " 12  event_type          object        \n",
      " 13  sell_price          float64       \n",
      " 14  weekday             int32         \n",
      " 15  date_int            int64         \n",
      " 16  day                 int32         \n",
      " 17  month               int32         \n",
      " 18  year                int32         \n",
      " 19  store_id_encoded    int64         \n",
      " 20  dept_id_encoded     int64         \n",
      " 21  cat_id_encoded      int64         \n",
      " 22  item_id_encoded     int64         \n",
      " 23  state_id_encoded    int64         \n",
      " 24  event_name_encoded  int64         \n",
      " 25  event_type_encoded  int64         \n",
      "dtypes: datetime64[ns](1), float64(1), int32(4), int64(11), object(9)\n",
      "memory usage: 714.6+ MB\n"
     ]
    }
   ],
   "source": [
    "df.info()"
   ]
  },
  {
   "cell_type": "code",
   "execution_count": 59,
   "id": "788a4f88-7d3e-47e9-9da8-23b885dd9d12",
   "metadata": {},
   "outputs": [],
   "source": [
    "date_cols = ['date','date_int'] "
   ]
  },
  {
   "cell_type": "code",
   "execution_count": 60,
   "id": "83f23da4-3f13-4cad-9230-868e66c70a56",
   "metadata": {},
   "outputs": [],
   "source": [
    "cat_cols = ['store_id','dept_id','cat_id','item_id','state_id','event_name','event_type']"
   ]
  },
  {
   "cell_type": "code",
   "execution_count": 55,
   "id": "64da62cc-005d-4b4c-ae6b-a7067af3a450",
   "metadata": {},
   "outputs": [
    {
     "ename": "KeyError",
     "evalue": "'category_col_encoded'",
     "output_type": "error",
     "traceback": [
      "\u001b[0;31m---------------------------------------------------------------------------\u001b[0m",
      "\u001b[0;31mKeyError\u001b[0m                                  Traceback (most recent call last)",
      "File \u001b[0;32m~/Library/Caches/pypoetry/virtualenvs/adv-mla-lab-2-5yQ4FX6i-py3.10/lib/python3.10/site-packages/pandas/core/indexes/base.py:3805\u001b[0m, in \u001b[0;36mIndex.get_loc\u001b[0;34m(self, key)\u001b[0m\n\u001b[1;32m   3804\u001b[0m \u001b[38;5;28;01mtry\u001b[39;00m:\n\u001b[0;32m-> 3805\u001b[0m     \u001b[38;5;28;01mreturn\u001b[39;00m \u001b[38;5;28;43mself\u001b[39;49m\u001b[38;5;241;43m.\u001b[39;49m\u001b[43m_engine\u001b[49m\u001b[38;5;241;43m.\u001b[39;49m\u001b[43mget_loc\u001b[49m\u001b[43m(\u001b[49m\u001b[43mcasted_key\u001b[49m\u001b[43m)\u001b[49m\n\u001b[1;32m   3806\u001b[0m \u001b[38;5;28;01mexcept\u001b[39;00m \u001b[38;5;167;01mKeyError\u001b[39;00m \u001b[38;5;28;01mas\u001b[39;00m err:\n",
      "File \u001b[0;32mindex.pyx:167\u001b[0m, in \u001b[0;36mpandas._libs.index.IndexEngine.get_loc\u001b[0;34m()\u001b[0m\n",
      "File \u001b[0;32mindex.pyx:196\u001b[0m, in \u001b[0;36mpandas._libs.index.IndexEngine.get_loc\u001b[0;34m()\u001b[0m\n",
      "File \u001b[0;32mpandas/_libs/hashtable_class_helper.pxi:7081\u001b[0m, in \u001b[0;36mpandas._libs.hashtable.PyObjectHashTable.get_item\u001b[0;34m()\u001b[0m\n",
      "File \u001b[0;32mpandas/_libs/hashtable_class_helper.pxi:7089\u001b[0m, in \u001b[0;36mpandas._libs.hashtable.PyObjectHashTable.get_item\u001b[0;34m()\u001b[0m\n",
      "\u001b[0;31mKeyError\u001b[0m: 'category_col_encoded'",
      "\nThe above exception was the direct cause of the following exception:\n",
      "\u001b[0;31mKeyError\u001b[0m                                  Traceback (most recent call last)",
      "Cell \u001b[0;32mIn[55], line 7\u001b[0m\n\u001b[1;32m      4\u001b[0m \u001b[38;5;28;01mfor\u001b[39;00m column \u001b[38;5;129;01min\u001b[39;00m cat_cols:\n\u001b[1;32m      5\u001b[0m     df[column \u001b[38;5;241m+\u001b[39m \u001b[38;5;124m'\u001b[39m\u001b[38;5;124m_encoded\u001b[39m\u001b[38;5;124m'\u001b[39m] \u001b[38;5;241m=\u001b[39m label_encoder\u001b[38;5;241m.\u001b[39mfit_transform(df[column])\n\u001b[0;32m----> 7\u001b[0m X_test[\u001b[38;5;124m'\u001b[39m\u001b[38;5;124mcategory_col\u001b[39m\u001b[38;5;124m'\u001b[39m] \u001b[38;5;241m=\u001b[39m label_encoder\u001b[38;5;241m.\u001b[39minverse_transform(\u001b[43mX_test\u001b[49m\u001b[43m[\u001b[49m\u001b[38;5;124;43m'\u001b[39;49m\u001b[38;5;124;43mcategory_col_encoded\u001b[39;49m\u001b[38;5;124;43m'\u001b[39;49m\u001b[43m]\u001b[49m)\n\u001b[1;32m      8\u001b[0m \u001b[38;5;28mprint\u001b[39m(X_test)\n",
      "File \u001b[0;32m~/Library/Caches/pypoetry/virtualenvs/adv-mla-lab-2-5yQ4FX6i-py3.10/lib/python3.10/site-packages/pandas/core/frame.py:4102\u001b[0m, in \u001b[0;36mDataFrame.__getitem__\u001b[0;34m(self, key)\u001b[0m\n\u001b[1;32m   4100\u001b[0m \u001b[38;5;28;01mif\u001b[39;00m \u001b[38;5;28mself\u001b[39m\u001b[38;5;241m.\u001b[39mcolumns\u001b[38;5;241m.\u001b[39mnlevels \u001b[38;5;241m>\u001b[39m \u001b[38;5;241m1\u001b[39m:\n\u001b[1;32m   4101\u001b[0m     \u001b[38;5;28;01mreturn\u001b[39;00m \u001b[38;5;28mself\u001b[39m\u001b[38;5;241m.\u001b[39m_getitem_multilevel(key)\n\u001b[0;32m-> 4102\u001b[0m indexer \u001b[38;5;241m=\u001b[39m \u001b[38;5;28;43mself\u001b[39;49m\u001b[38;5;241;43m.\u001b[39;49m\u001b[43mcolumns\u001b[49m\u001b[38;5;241;43m.\u001b[39;49m\u001b[43mget_loc\u001b[49m\u001b[43m(\u001b[49m\u001b[43mkey\u001b[49m\u001b[43m)\u001b[49m\n\u001b[1;32m   4103\u001b[0m \u001b[38;5;28;01mif\u001b[39;00m is_integer(indexer):\n\u001b[1;32m   4104\u001b[0m     indexer \u001b[38;5;241m=\u001b[39m [indexer]\n",
      "File \u001b[0;32m~/Library/Caches/pypoetry/virtualenvs/adv-mla-lab-2-5yQ4FX6i-py3.10/lib/python3.10/site-packages/pandas/core/indexes/base.py:3812\u001b[0m, in \u001b[0;36mIndex.get_loc\u001b[0;34m(self, key)\u001b[0m\n\u001b[1;32m   3807\u001b[0m     \u001b[38;5;28;01mif\u001b[39;00m \u001b[38;5;28misinstance\u001b[39m(casted_key, \u001b[38;5;28mslice\u001b[39m) \u001b[38;5;129;01mor\u001b[39;00m (\n\u001b[1;32m   3808\u001b[0m         \u001b[38;5;28misinstance\u001b[39m(casted_key, abc\u001b[38;5;241m.\u001b[39mIterable)\n\u001b[1;32m   3809\u001b[0m         \u001b[38;5;129;01mand\u001b[39;00m \u001b[38;5;28many\u001b[39m(\u001b[38;5;28misinstance\u001b[39m(x, \u001b[38;5;28mslice\u001b[39m) \u001b[38;5;28;01mfor\u001b[39;00m x \u001b[38;5;129;01min\u001b[39;00m casted_key)\n\u001b[1;32m   3810\u001b[0m     ):\n\u001b[1;32m   3811\u001b[0m         \u001b[38;5;28;01mraise\u001b[39;00m InvalidIndexError(key)\n\u001b[0;32m-> 3812\u001b[0m     \u001b[38;5;28;01mraise\u001b[39;00m \u001b[38;5;167;01mKeyError\u001b[39;00m(key) \u001b[38;5;28;01mfrom\u001b[39;00m \u001b[38;5;21;01merr\u001b[39;00m\n\u001b[1;32m   3813\u001b[0m \u001b[38;5;28;01mexcept\u001b[39;00m \u001b[38;5;167;01mTypeError\u001b[39;00m:\n\u001b[1;32m   3814\u001b[0m     \u001b[38;5;66;03m# If we have a listlike key, _check_indexing_error will raise\u001b[39;00m\n\u001b[1;32m   3815\u001b[0m     \u001b[38;5;66;03m#  InvalidIndexError. Otherwise we fall through and re-raise\u001b[39;00m\n\u001b[1;32m   3816\u001b[0m     \u001b[38;5;66;03m#  the TypeError.\u001b[39;00m\n\u001b[1;32m   3817\u001b[0m     \u001b[38;5;28mself\u001b[39m\u001b[38;5;241m.\u001b[39m_check_indexing_error(key)\n",
      "\u001b[0;31mKeyError\u001b[0m: 'category_col_encoded'"
     ]
    }
   ],
   "source": [
    "label_encoder = LabelEncoder()\n",
    "\n",
    "\n",
    "for column in cat_cols:\n",
    "    df[column + '_encoded'] = label_encoder.fit_transform(df[column])\n",
    "\n",
    "X_test['category_col'] = label_encoder.inverse_transform(X_test['category_col_encoded'])\n",
    "print(X_test)\n"
   ]
  },
  {
   "cell_type": "code",
   "execution_count": 71,
   "id": "bbc3b988-d44b-4b4f-b3c7-a4dd3e33a133",
   "metadata": {},
   "outputs": [],
   "source": [
    "def encode_and_combine_columns(df, date_cols, cat_cols):\n",
    "    \"\"\"\n",
    "    Encodes categorical columns in a DataFrame using LabelEncoder, drops the original columns,\n",
    "    and combines the numerical columns with the encoded categorical columns.\n",
    "\n",
    "    Parameters:\n",
    "    df (pd.DataFrame): The DataFrame containing the categorical and numerical columns.\n",
    "    num_cols (list): The list of numerical columns to keep.\n",
    "    cat_cols (list): The list of categorical columns to encode and drop.\n",
    "\n",
    "    Returns:\n",
    "    pd.DataFrame: A new DataFrame with numerical columns and encoded categorical columns.\n",
    "    \"\"\"\n",
    "    label_encoder = LabelEncoder()\n",
    "    for column in cat_cols:\n",
    "        df[column + '_encoded'] = label_encoder.fit_transform(df[column])\n",
    "    \n",
    "    # Create a new DataFrame with numerical columns and encoded categorical columns\n",
    "    new_df = df[date_cols + cat_cols + [column + '_encoded' for column in cat_cols]].copy()\n",
    "    \n",
    "    return new_df"
   ]
  },
  {
   "cell_type": "code",
   "execution_count": null,
   "id": "5acb4960-967a-427d-8368-8c24950a8e1c",
   "metadata": {},
   "outputs": [],
   "source": []
  },
  {
   "cell_type": "code",
   "execution_count": null,
   "id": "ced5ce14-968c-418a-8b63-d842179cee1a",
   "metadata": {},
   "outputs": [],
   "source": []
  },
  {
   "cell_type": "code",
   "execution_count": 72,
   "id": "0cd9a179-0c2c-46d5-8244-c657d65771a8",
   "metadata": {},
   "outputs": [],
   "source": [
    "df1 = encode_and_combine_columns(df,date_cols,cat_cols)"
   ]
  },
  {
   "cell_type": "code",
   "execution_count": 62,
   "id": "27e5a68a-bf50-4774-9691-efaa5ef557fb",
   "metadata": {},
   "outputs": [],
   "source": [
    "cat_cols_key = cat_cols_id(df,date_cols,cat_cols)\n"
   ]
  },
  {
   "cell_type": "code",
   "execution_count": 73,
   "id": "8413cd4f-f9a1-4193-a553-70625c668c7f",
   "metadata": {},
   "outputs": [
    {
     "data": {
      "text/html": [
       "<div>\n",
       "<style scoped>\n",
       "    .dataframe tbody tr th:only-of-type {\n",
       "        vertical-align: middle;\n",
       "    }\n",
       "\n",
       "    .dataframe tbody tr th {\n",
       "        vertical-align: top;\n",
       "    }\n",
       "\n",
       "    .dataframe thead th {\n",
       "        text-align: right;\n",
       "    }\n",
       "</style>\n",
       "<table border=\"1\" class=\"dataframe\">\n",
       "  <thead>\n",
       "    <tr style=\"text-align: right;\">\n",
       "      <th></th>\n",
       "      <th>date</th>\n",
       "      <th>date_int</th>\n",
       "      <th>store_id</th>\n",
       "      <th>dept_id</th>\n",
       "      <th>cat_id</th>\n",
       "      <th>item_id</th>\n",
       "      <th>state_id</th>\n",
       "      <th>event_name</th>\n",
       "      <th>event_type</th>\n",
       "      <th>store_id_encoded</th>\n",
       "      <th>dept_id_encoded</th>\n",
       "      <th>cat_id_encoded</th>\n",
       "      <th>item_id_encoded</th>\n",
       "      <th>state_id_encoded</th>\n",
       "      <th>event_name_encoded</th>\n",
       "      <th>event_type_encoded</th>\n",
       "    </tr>\n",
       "  </thead>\n",
       "  <tbody>\n",
       "    <tr>\n",
       "      <th>0</th>\n",
       "      <td>2011-02-06</td>\n",
       "      <td>1296950400</td>\n",
       "      <td>CA_1</td>\n",
       "      <td>HOBBIES_1</td>\n",
       "      <td>HOBBIES</td>\n",
       "      <td>HOBBIES_1_008</td>\n",
       "      <td>CA</td>\n",
       "      <td>SuperBowl</td>\n",
       "      <td>Sporting</td>\n",
       "      <td>0</td>\n",
       "      <td>3</td>\n",
       "      <td>1</td>\n",
       "      <td>1444</td>\n",
       "      <td>0</td>\n",
       "      <td>26</td>\n",
       "      <td>3</td>\n",
       "    </tr>\n",
       "    <tr>\n",
       "      <th>1</th>\n",
       "      <td>2011-02-06</td>\n",
       "      <td>1296950400</td>\n",
       "      <td>CA_1</td>\n",
       "      <td>HOBBIES_1</td>\n",
       "      <td>HOBBIES</td>\n",
       "      <td>HOBBIES_1_009</td>\n",
       "      <td>CA</td>\n",
       "      <td>SuperBowl</td>\n",
       "      <td>Sporting</td>\n",
       "      <td>0</td>\n",
       "      <td>3</td>\n",
       "      <td>1</td>\n",
       "      <td>1445</td>\n",
       "      <td>0</td>\n",
       "      <td>26</td>\n",
       "      <td>3</td>\n",
       "    </tr>\n",
       "    <tr>\n",
       "      <th>2</th>\n",
       "      <td>2011-02-06</td>\n",
       "      <td>1296950400</td>\n",
       "      <td>CA_1</td>\n",
       "      <td>HOBBIES_1</td>\n",
       "      <td>HOBBIES</td>\n",
       "      <td>HOBBIES_1_010</td>\n",
       "      <td>CA</td>\n",
       "      <td>SuperBowl</td>\n",
       "      <td>Sporting</td>\n",
       "      <td>0</td>\n",
       "      <td>3</td>\n",
       "      <td>1</td>\n",
       "      <td>1446</td>\n",
       "      <td>0</td>\n",
       "      <td>26</td>\n",
       "      <td>3</td>\n",
       "    </tr>\n",
       "    <tr>\n",
       "      <th>3</th>\n",
       "      <td>2011-02-06</td>\n",
       "      <td>1296950400</td>\n",
       "      <td>CA_1</td>\n",
       "      <td>HOBBIES_1</td>\n",
       "      <td>HOBBIES</td>\n",
       "      <td>HOBBIES_1_012</td>\n",
       "      <td>CA</td>\n",
       "      <td>SuperBowl</td>\n",
       "      <td>Sporting</td>\n",
       "      <td>0</td>\n",
       "      <td>3</td>\n",
       "      <td>1</td>\n",
       "      <td>1448</td>\n",
       "      <td>0</td>\n",
       "      <td>26</td>\n",
       "      <td>3</td>\n",
       "    </tr>\n",
       "    <tr>\n",
       "      <th>4</th>\n",
       "      <td>2011-02-06</td>\n",
       "      <td>1296950400</td>\n",
       "      <td>CA_1</td>\n",
       "      <td>HOBBIES_1</td>\n",
       "      <td>HOBBIES</td>\n",
       "      <td>HOBBIES_1_015</td>\n",
       "      <td>CA</td>\n",
       "      <td>SuperBowl</td>\n",
       "      <td>Sporting</td>\n",
       "      <td>0</td>\n",
       "      <td>3</td>\n",
       "      <td>1</td>\n",
       "      <td>1451</td>\n",
       "      <td>0</td>\n",
       "      <td>26</td>\n",
       "      <td>3</td>\n",
       "    </tr>\n",
       "  </tbody>\n",
       "</table>\n",
       "</div>"
      ],
      "text/plain": [
       "        date    date_int store_id    dept_id   cat_id        item_id state_id  \\\n",
       "0 2011-02-06  1296950400     CA_1  HOBBIES_1  HOBBIES  HOBBIES_1_008       CA   \n",
       "1 2011-02-06  1296950400     CA_1  HOBBIES_1  HOBBIES  HOBBIES_1_009       CA   \n",
       "2 2011-02-06  1296950400     CA_1  HOBBIES_1  HOBBIES  HOBBIES_1_010       CA   \n",
       "3 2011-02-06  1296950400     CA_1  HOBBIES_1  HOBBIES  HOBBIES_1_012       CA   \n",
       "4 2011-02-06  1296950400     CA_1  HOBBIES_1  HOBBIES  HOBBIES_1_015       CA   \n",
       "\n",
       "  event_name event_type  store_id_encoded  dept_id_encoded  cat_id_encoded  \\\n",
       "0  SuperBowl   Sporting                 0                3               1   \n",
       "1  SuperBowl   Sporting                 0                3               1   \n",
       "2  SuperBowl   Sporting                 0                3               1   \n",
       "3  SuperBowl   Sporting                 0                3               1   \n",
       "4  SuperBowl   Sporting                 0                3               1   \n",
       "\n",
       "   item_id_encoded  state_id_encoded  event_name_encoded  event_type_encoded  \n",
       "0             1444                 0                  26                   3  \n",
       "1             1445                 0                  26                   3  \n",
       "2             1446                 0                  26                   3  \n",
       "3             1448                 0                  26                   3  \n",
       "4             1451                 0                  26                   3  "
      ]
     },
     "execution_count": 73,
     "metadata": {},
     "output_type": "execute_result"
    }
   ],
   "source": [
    "df1.head()"
   ]
  },
  {
   "cell_type": "code",
   "execution_count": 11,
   "id": "ccc37e39-3bce-4469-9284-045f73f8b3ed",
   "metadata": {},
   "outputs": [],
   "source": [
    "from code_pkg.data.sets import save_sets"
   ]
  },
  {
   "cell_type": "code",
   "execution_count": 87,
   "id": "d8c379f6-1cbc-4691-b869-1f853c7c22f1",
   "metadata": {},
   "outputs": [],
   "source": [
    "save_sets(X_train, y_train, X_val, y_val, X_test, y_test, path='/Users/thusondube/Documents/UTS2024/Assignments/A2_24542250/data/processed/')"
   ]
  },
  {
   "cell_type": "code",
   "execution_count": 20,
   "id": "5157134b-97c5-44cb-ace8-c8ec79efa47e",
   "metadata": {},
   "outputs": [],
   "source": [
    "def if_weekends(df,weekends = [5,6]):\n",
    "    if df in weekends:\n",
    "        return 1\n",
    "    else:\n",
    "        return 0"
   ]
  },
  {
   "cell_type": "code",
   "execution_count": 100,
   "id": "b2d2ea2c-08ac-4044-8f76-6e2eb65409b8",
   "metadata": {},
   "outputs": [],
   "source": [
    "X_train.to_csv('/Users/thusondube/Documents/UTS2024/Assignments/A2_24542250/data/processed/X_train.csv',index=False)\n",
    "X_val.to_csv('/Users/thusondube/Documents/UTS2024/Assignments/A2_24542250/data/processed/X_val.csv',index=False)\n",
    "X_test.to_csv('/Users/thusondube/Documents/UTS2024/Assignments/A2_24542250/data/processed/X_test.csv',index=False)\n",
    "y_train.to_csv('/Users/thusondube/Documents/UTS2024/Assignments/A2_24542250/data/processed/y_train.csv',index=False)\n",
    "y_val.to_csv('/Users/thusondube/Documents/UTS2024/Assignments/A2_24542250/data/processed/y_val.csv',index=False)\n",
    "y_test.to_csv('/Users/thusondube/Documents/UTS2024/Assignments/A2_24542250/data/processed/y_test.csv',index=False)"
   ]
  },
  {
   "cell_type": "code",
   "execution_count": 21,
   "id": "d4de0053-972e-4baa-af98-b0991f0ecdc5",
   "metadata": {},
   "outputs": [],
   "source": [
    "df['if_weekend']=df['weekday'].apply(if_weekends)"
   ]
  },
  {
   "cell_type": "code",
   "execution_count": 98,
   "id": "a372b9ae-8f6a-4619-9576-3fc5c1302514",
   "metadata": {},
   "outputs": [
    {
     "ename": "AttributeError",
     "evalue": "'NoneType' object has no attribute 'head'",
     "output_type": "error",
     "traceback": [
      "\u001b[0;31m---------------------------------------------------------------------------\u001b[0m",
      "\u001b[0;31mAttributeError\u001b[0m                            Traceback (most recent call last)",
      "Cell \u001b[0;32mIn[98], line 1\u001b[0m\n\u001b[0;32m----> 1\u001b[0m \u001b[43mX_train\u001b[49m\u001b[38;5;241;43m.\u001b[39;49m\u001b[43mhead\u001b[49m()\n",
      "\u001b[0;31mAttributeError\u001b[0m: 'NoneType' object has no attribute 'head'"
     ]
    }
   ],
   "source": [
    "X_train.head()"
   ]
  },
  {
   "cell_type": "code",
   "execution_count": 24,
   "id": "a63a4d9a-745e-482a-82e3-3ba6e6cf9add",
   "metadata": {},
   "outputs": [
    {
     "ename": "TypeError",
     "evalue": "LabelEncoder.fit_transform() takes 2 positional arguments but 3 were given",
     "output_type": "error",
     "traceback": [
      "\u001b[0;31m---------------------------------------------------------------------------\u001b[0m",
      "\u001b[0;31mTypeError\u001b[0m                                 Traceback (most recent call last)",
      "Cell \u001b[0;32mIn[24], line 8\u001b[0m\n\u001b[1;32m      2\u001b[0m \u001b[38;5;28;01mfrom\u001b[39;00m \u001b[38;5;21;01msklearn\u001b[39;00m\u001b[38;5;21;01m.\u001b[39;00m\u001b[38;5;21;01mpipeline\u001b[39;00m \u001b[38;5;28;01mimport\u001b[39;00m Pipeline\n\u001b[1;32m      3\u001b[0m model \u001b[38;5;241m=\u001b[39m Pipeline(steps\u001b[38;5;241m=\u001b[39m[\n\u001b[1;32m      4\u001b[0m     (\u001b[38;5;124m'\u001b[39m\u001b[38;5;124mpreprocessor\u001b[39m\u001b[38;5;124m'\u001b[39m, label_encoder),\n\u001b[1;32m      5\u001b[0m     (\u001b[38;5;124m'\u001b[39m\u001b[38;5;124mregressor\u001b[39m\u001b[38;5;124m'\u001b[39m, LinearRegression())\n\u001b[1;32m      6\u001b[0m ])\n\u001b[0;32m----> 8\u001b[0m \u001b[43mmodel\u001b[49m\u001b[38;5;241;43m.\u001b[39;49m\u001b[43mfit\u001b[49m\u001b[43m(\u001b[49m\u001b[43mX_train\u001b[49m\u001b[43m,\u001b[49m\u001b[43m \u001b[49m\u001b[43my_train\u001b[49m\u001b[43m)\u001b[49m\n",
      "File \u001b[0;32m~/Library/Caches/pypoetry/virtualenvs/adv-mla-lab-2-5yQ4FX6i-py3.10/lib/python3.10/site-packages/sklearn/base.py:1473\u001b[0m, in \u001b[0;36m_fit_context.<locals>.decorator.<locals>.wrapper\u001b[0;34m(estimator, *args, **kwargs)\u001b[0m\n\u001b[1;32m   1466\u001b[0m     estimator\u001b[38;5;241m.\u001b[39m_validate_params()\n\u001b[1;32m   1468\u001b[0m \u001b[38;5;28;01mwith\u001b[39;00m config_context(\n\u001b[1;32m   1469\u001b[0m     skip_parameter_validation\u001b[38;5;241m=\u001b[39m(\n\u001b[1;32m   1470\u001b[0m         prefer_skip_nested_validation \u001b[38;5;129;01mor\u001b[39;00m global_skip_validation\n\u001b[1;32m   1471\u001b[0m     )\n\u001b[1;32m   1472\u001b[0m ):\n\u001b[0;32m-> 1473\u001b[0m     \u001b[38;5;28;01mreturn\u001b[39;00m \u001b[43mfit_method\u001b[49m\u001b[43m(\u001b[49m\u001b[43mestimator\u001b[49m\u001b[43m,\u001b[49m\u001b[43m \u001b[49m\u001b[38;5;241;43m*\u001b[39;49m\u001b[43margs\u001b[49m\u001b[43m,\u001b[49m\u001b[43m \u001b[49m\u001b[38;5;241;43m*\u001b[39;49m\u001b[38;5;241;43m*\u001b[39;49m\u001b[43mkwargs\u001b[49m\u001b[43m)\u001b[49m\n",
      "File \u001b[0;32m~/Library/Caches/pypoetry/virtualenvs/adv-mla-lab-2-5yQ4FX6i-py3.10/lib/python3.10/site-packages/sklearn/pipeline.py:469\u001b[0m, in \u001b[0;36mPipeline.fit\u001b[0;34m(self, X, y, **params)\u001b[0m\n\u001b[1;32m    426\u001b[0m \u001b[38;5;250m\u001b[39m\u001b[38;5;124;03m\"\"\"Fit the model.\u001b[39;00m\n\u001b[1;32m    427\u001b[0m \n\u001b[1;32m    428\u001b[0m \u001b[38;5;124;03mFit all the transformers one after the other and sequentially transform the\u001b[39;00m\n\u001b[0;32m   (...)\u001b[0m\n\u001b[1;32m    466\u001b[0m \u001b[38;5;124;03m    Pipeline with fitted steps.\u001b[39;00m\n\u001b[1;32m    467\u001b[0m \u001b[38;5;124;03m\"\"\"\u001b[39;00m\n\u001b[1;32m    468\u001b[0m routed_params \u001b[38;5;241m=\u001b[39m \u001b[38;5;28mself\u001b[39m\u001b[38;5;241m.\u001b[39m_check_method_params(method\u001b[38;5;241m=\u001b[39m\u001b[38;5;124m\"\u001b[39m\u001b[38;5;124mfit\u001b[39m\u001b[38;5;124m\"\u001b[39m, props\u001b[38;5;241m=\u001b[39mparams)\n\u001b[0;32m--> 469\u001b[0m Xt \u001b[38;5;241m=\u001b[39m \u001b[38;5;28;43mself\u001b[39;49m\u001b[38;5;241;43m.\u001b[39;49m\u001b[43m_fit\u001b[49m\u001b[43m(\u001b[49m\u001b[43mX\u001b[49m\u001b[43m,\u001b[49m\u001b[43m \u001b[49m\u001b[43my\u001b[49m\u001b[43m,\u001b[49m\u001b[43m \u001b[49m\u001b[43mrouted_params\u001b[49m\u001b[43m)\u001b[49m\n\u001b[1;32m    470\u001b[0m \u001b[38;5;28;01mwith\u001b[39;00m _print_elapsed_time(\u001b[38;5;124m\"\u001b[39m\u001b[38;5;124mPipeline\u001b[39m\u001b[38;5;124m\"\u001b[39m, \u001b[38;5;28mself\u001b[39m\u001b[38;5;241m.\u001b[39m_log_message(\u001b[38;5;28mlen\u001b[39m(\u001b[38;5;28mself\u001b[39m\u001b[38;5;241m.\u001b[39msteps) \u001b[38;5;241m-\u001b[39m \u001b[38;5;241m1\u001b[39m)):\n\u001b[1;32m    471\u001b[0m     \u001b[38;5;28;01mif\u001b[39;00m \u001b[38;5;28mself\u001b[39m\u001b[38;5;241m.\u001b[39m_final_estimator \u001b[38;5;241m!=\u001b[39m \u001b[38;5;124m\"\u001b[39m\u001b[38;5;124mpassthrough\u001b[39m\u001b[38;5;124m\"\u001b[39m:\n",
      "File \u001b[0;32m~/Library/Caches/pypoetry/virtualenvs/adv-mla-lab-2-5yQ4FX6i-py3.10/lib/python3.10/site-packages/sklearn/pipeline.py:406\u001b[0m, in \u001b[0;36mPipeline._fit\u001b[0;34m(self, X, y, routed_params)\u001b[0m\n\u001b[1;32m    404\u001b[0m     cloned_transformer \u001b[38;5;241m=\u001b[39m clone(transformer)\n\u001b[1;32m    405\u001b[0m \u001b[38;5;66;03m# Fit or load from cache the current transformer\u001b[39;00m\n\u001b[0;32m--> 406\u001b[0m X, fitted_transformer \u001b[38;5;241m=\u001b[39m \u001b[43mfit_transform_one_cached\u001b[49m\u001b[43m(\u001b[49m\n\u001b[1;32m    407\u001b[0m \u001b[43m    \u001b[49m\u001b[43mcloned_transformer\u001b[49m\u001b[43m,\u001b[49m\n\u001b[1;32m    408\u001b[0m \u001b[43m    \u001b[49m\u001b[43mX\u001b[49m\u001b[43m,\u001b[49m\n\u001b[1;32m    409\u001b[0m \u001b[43m    \u001b[49m\u001b[43my\u001b[49m\u001b[43m,\u001b[49m\n\u001b[1;32m    410\u001b[0m \u001b[43m    \u001b[49m\u001b[38;5;28;43;01mNone\u001b[39;49;00m\u001b[43m,\u001b[49m\n\u001b[1;32m    411\u001b[0m \u001b[43m    \u001b[49m\u001b[43mmessage_clsname\u001b[49m\u001b[38;5;241;43m=\u001b[39;49m\u001b[38;5;124;43m\"\u001b[39;49m\u001b[38;5;124;43mPipeline\u001b[39;49m\u001b[38;5;124;43m\"\u001b[39;49m\u001b[43m,\u001b[49m\n\u001b[1;32m    412\u001b[0m \u001b[43m    \u001b[49m\u001b[43mmessage\u001b[49m\u001b[38;5;241;43m=\u001b[39;49m\u001b[38;5;28;43mself\u001b[39;49m\u001b[38;5;241;43m.\u001b[39;49m\u001b[43m_log_message\u001b[49m\u001b[43m(\u001b[49m\u001b[43mstep_idx\u001b[49m\u001b[43m)\u001b[49m\u001b[43m,\u001b[49m\n\u001b[1;32m    413\u001b[0m \u001b[43m    \u001b[49m\u001b[43mparams\u001b[49m\u001b[38;5;241;43m=\u001b[39;49m\u001b[43mrouted_params\u001b[49m\u001b[43m[\u001b[49m\u001b[43mname\u001b[49m\u001b[43m]\u001b[49m\u001b[43m,\u001b[49m\n\u001b[1;32m    414\u001b[0m \u001b[43m\u001b[49m\u001b[43m)\u001b[49m\n\u001b[1;32m    415\u001b[0m \u001b[38;5;66;03m# Replace the transformer of the step with the fitted\u001b[39;00m\n\u001b[1;32m    416\u001b[0m \u001b[38;5;66;03m# transformer. This is necessary when loading the transformer\u001b[39;00m\n\u001b[1;32m    417\u001b[0m \u001b[38;5;66;03m# from the cache.\u001b[39;00m\n\u001b[1;32m    418\u001b[0m \u001b[38;5;28mself\u001b[39m\u001b[38;5;241m.\u001b[39msteps[step_idx] \u001b[38;5;241m=\u001b[39m (name, fitted_transformer)\n",
      "File \u001b[0;32m~/Library/Caches/pypoetry/virtualenvs/adv-mla-lab-2-5yQ4FX6i-py3.10/lib/python3.10/site-packages/joblib/memory.py:312\u001b[0m, in \u001b[0;36mNotMemorizedFunc.__call__\u001b[0;34m(self, *args, **kwargs)\u001b[0m\n\u001b[1;32m    311\u001b[0m \u001b[38;5;28;01mdef\u001b[39;00m \u001b[38;5;21m__call__\u001b[39m(\u001b[38;5;28mself\u001b[39m, \u001b[38;5;241m*\u001b[39margs, \u001b[38;5;241m*\u001b[39m\u001b[38;5;241m*\u001b[39mkwargs):\n\u001b[0;32m--> 312\u001b[0m     \u001b[38;5;28;01mreturn\u001b[39;00m \u001b[38;5;28;43mself\u001b[39;49m\u001b[38;5;241;43m.\u001b[39;49m\u001b[43mfunc\u001b[49m\u001b[43m(\u001b[49m\u001b[38;5;241;43m*\u001b[39;49m\u001b[43margs\u001b[49m\u001b[43m,\u001b[49m\u001b[43m \u001b[49m\u001b[38;5;241;43m*\u001b[39;49m\u001b[38;5;241;43m*\u001b[39;49m\u001b[43mkwargs\u001b[49m\u001b[43m)\u001b[49m\n",
      "File \u001b[0;32m~/Library/Caches/pypoetry/virtualenvs/adv-mla-lab-2-5yQ4FX6i-py3.10/lib/python3.10/site-packages/sklearn/pipeline.py:1310\u001b[0m, in \u001b[0;36m_fit_transform_one\u001b[0;34m(transformer, X, y, weight, message_clsname, message, params)\u001b[0m\n\u001b[1;32m   1308\u001b[0m \u001b[38;5;28;01mwith\u001b[39;00m _print_elapsed_time(message_clsname, message):\n\u001b[1;32m   1309\u001b[0m     \u001b[38;5;28;01mif\u001b[39;00m \u001b[38;5;28mhasattr\u001b[39m(transformer, \u001b[38;5;124m\"\u001b[39m\u001b[38;5;124mfit_transform\u001b[39m\u001b[38;5;124m\"\u001b[39m):\n\u001b[0;32m-> 1310\u001b[0m         res \u001b[38;5;241m=\u001b[39m \u001b[43mtransformer\u001b[49m\u001b[38;5;241;43m.\u001b[39;49m\u001b[43mfit_transform\u001b[49m\u001b[43m(\u001b[49m\u001b[43mX\u001b[49m\u001b[43m,\u001b[49m\u001b[43m \u001b[49m\u001b[43my\u001b[49m\u001b[43m,\u001b[49m\u001b[43m \u001b[49m\u001b[38;5;241;43m*\u001b[39;49m\u001b[38;5;241;43m*\u001b[39;49m\u001b[43mparams\u001b[49m\u001b[38;5;241;43m.\u001b[39;49m\u001b[43mget\u001b[49m\u001b[43m(\u001b[49m\u001b[38;5;124;43m\"\u001b[39;49m\u001b[38;5;124;43mfit_transform\u001b[39;49m\u001b[38;5;124;43m\"\u001b[39;49m\u001b[43m,\u001b[49m\u001b[43m \u001b[49m\u001b[43m{\u001b[49m\u001b[43m}\u001b[49m\u001b[43m)\u001b[49m\u001b[43m)\u001b[49m\n\u001b[1;32m   1311\u001b[0m     \u001b[38;5;28;01melse\u001b[39;00m:\n\u001b[1;32m   1312\u001b[0m         res \u001b[38;5;241m=\u001b[39m transformer\u001b[38;5;241m.\u001b[39mfit(X, y, \u001b[38;5;241m*\u001b[39m\u001b[38;5;241m*\u001b[39mparams\u001b[38;5;241m.\u001b[39mget(\u001b[38;5;124m\"\u001b[39m\u001b[38;5;124mfit\u001b[39m\u001b[38;5;124m\"\u001b[39m, {}))\u001b[38;5;241m.\u001b[39mtransform(\n\u001b[1;32m   1313\u001b[0m             X, \u001b[38;5;241m*\u001b[39m\u001b[38;5;241m*\u001b[39mparams\u001b[38;5;241m.\u001b[39mget(\u001b[38;5;124m\"\u001b[39m\u001b[38;5;124mtransform\u001b[39m\u001b[38;5;124m\"\u001b[39m, {})\n\u001b[1;32m   1314\u001b[0m         )\n",
      "\u001b[0;31mTypeError\u001b[0m: LabelEncoder.fit_transform() takes 2 positional arguments but 3 were given"
     ]
    }
   ],
   "source": [
    "decoded = label_encoder.inverse_transform(encoded_labels)"
   ]
  }
 ],
 "metadata": {
  "kernelspec": {
   "display_name": "Python 3 (ipykernel)",
   "language": "python",
   "name": "python3"
  },
  "language_info": {
   "codemirror_mode": {
    "name": "ipython",
    "version": 3
   },
   "file_extension": ".py",
   "mimetype": "text/x-python",
   "name": "python",
   "nbconvert_exporter": "python",
   "pygments_lexer": "ipython3",
   "version": "3.10.7"
  }
 },
 "nbformat": 4,
 "nbformat_minor": 5
}
